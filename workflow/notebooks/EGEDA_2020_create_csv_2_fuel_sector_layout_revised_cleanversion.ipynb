{
 "cells": [
  {
   "cell_type": "code",
   "execution_count": null,
   "metadata": {
    "ExecuteTime": {
     "end_time": "2023-03-17T07:13:16.230902Z",
     "start_time": "2023-03-17T07:13:16.201980Z"
    }
   },
   "outputs": [],
   "source": [
    "from IPython.core.display import display, HTML\n",
    "display(HTML(\"<style>.container { width:85% !important; }</style>\"))"
   ]
  },
  {
   "cell_type": "markdown",
   "metadata": {
    "ExecuteTime": {
     "end_time": "2023-02-16T06:45:32.695240Z",
     "start_time": "2023-02-16T06:45:32.679282Z"
    }
   },
   "source": [
    "# Data and package import"
   ]
  },
  {
   "cell_type": "code",
   "execution_count": null,
   "metadata": {
    "ExecuteTime": {
     "end_time": "2023-03-17T07:13:16.246860Z",
     "start_time": "2023-03-17T07:13:16.232897Z"
    }
   },
   "outputs": [],
   "source": [
    "import numpy as np\n",
    "import pandas as pd\n",
    "import re"
   ]
  },
  {
   "cell_type": "code",
   "execution_count": null,
   "metadata": {
    "ExecuteTime": {
     "end_time": "2023-03-17T07:14:52.843614Z",
     "start_time": "2023-03-17T07:13:16.247858Z"
    }
   },
   "outputs": [],
   "source": [
    "# read raw data\n",
    "# na_values: defines values that should be viewed as nan\n",
    "\n",
    "RawEGEDA = pd.read_excel('./data/October_2022/00APEC.xlsx',\\\n",
    "                         sheet_name = None, # 'None' reads in all sheets\\\n",
    "                         na_values = ['x', 'X', '']) # I don't think there's any x's or X's in the EGEDA xlsx file, but leaving as is (shouldn't make a difference)"
   ]
  },
  {
   "cell_type": "markdown",
   "metadata": {},
   "source": [
    "## Check the shapes of all dataframes (確認每一個資料框的列欄數是否相同)"
   ]
  },
  {
   "cell_type": "code",
   "execution_count": null,
   "metadata": {
    "ExecuteTime": {
     "end_time": "2023-03-17T07:14:52.859646Z",
     "start_time": "2023-03-17T07:14:52.846385Z"
    }
   },
   "outputs": [],
   "source": [
    "# Save the economy name (key) in RawEGEDA. We will use it in the for-loop. (將 egeda 的經濟體標示法存起來，後面在對 egeda 資料做迴圈的時候會用到)\n",
    "economies = RawEGEDA.keys()\n",
    "\n",
    "# economies"
   ]
  },
  {
   "cell_type": "code",
   "execution_count": null,
   "metadata": {
    "ExecuteTime": {
     "end_time": "2023-03-17T07:14:52.875111Z",
     "start_time": "2023-03-17T07:14:52.860529Z"
    }
   },
   "outputs": [],
   "source": [
    "# Use for-loop to record the shape of all dataframes (透過迴圈將每個資料框的 shape 存進 shape_of_data 的 list 當中)\n",
    "shape_of_data = []\n",
    "\n",
    "for i in economies:\n",
    "    dimension = RawEGEDA[i].shape\n",
    "    shape_of_data.append(dimension)\n",
    "    \n",
    "# shape_of_data"
   ]
  },
  {
   "cell_type": "markdown",
   "metadata": {},
   "source": [
    "### Check the numbers of row (檢查列)"
   ]
  },
  {
   "cell_type": "code",
   "execution_count": null,
   "metadata": {
    "ExecuteTime": {
     "end_time": "2023-03-17T07:14:52.890366Z",
     "start_time": "2023-03-17T07:14:52.877109Z"
    }
   },
   "outputs": [],
   "source": [
    "# save the numbers of row of all dataframe (把每個資料框 shape 的列數均存在一個 list 裡面)\n",
    "number_of_rows = []\n",
    "for i in shape_of_data:\n",
    "    number_of_rows.append(i[0])\n",
    "\n",
    "# number_of_rows"
   ]
  },
  {
   "cell_type": "code",
   "execution_count": null,
   "metadata": {
    "ExecuteTime": {
     "end_time": "2023-03-17T07:14:52.905556Z",
     "start_time": "2023-03-17T07:14:52.892501Z"
    }
   },
   "outputs": [],
   "source": [
    "# Use the number of row of first dataframe as reference, and check if the others are the same as it via for-loop. \n",
    "# Save the result in a list. (以列表中第一個數值為標準 (第一個資料框的列數)，透過迴圈檢查美個資料框的列數是否與之相同，並將結果生成為布林值存成一個列表)\n",
    "\n",
    "boolean_list = []\n",
    "for i in number_of_rows:\n",
    "    boolean_list.append(i == number_of_rows[0])\n",
    "\n",
    "if all(boolean_list) == True: # all() returns True only if all elements in the list are True (all() 只有在括號中的列表全部都是 True 時才會回傳 True)\n",
    "    print(\"the number of rows are all the same!\")\n",
    "else:\n",
    "    print(\"somthing worng\")"
   ]
  },
  {
   "cell_type": "markdown",
   "metadata": {},
   "source": [
    "### Check the numbers of columns (檢查欄)\n",
    "- We found some inconsistent numbers of columns.\n",
    "- It resulted from the fact that some economies updated their 2021 data. (不一致問題來自有些經濟體更新了 2021 的資料，有些則沒有)"
   ]
  },
  {
   "cell_type": "code",
   "execution_count": null,
   "metadata": {
    "ExecuteTime": {
     "end_time": "2023-03-17T07:14:52.921195Z",
     "start_time": "2023-03-17T07:14:52.906440Z"
    }
   },
   "outputs": [],
   "source": [
    "# save the numbers of columns of all dataframe (把每個資料框 shape 的欄數均存在一個 list 裡面)\n",
    "number_of_columns = []\n",
    "for i in shape_of_data:\n",
    "    number_of_columns.append(i[1])\n",
    "    \n",
    "# number_of_columns"
   ]
  },
  {
   "cell_type": "code",
   "execution_count": null,
   "metadata": {
    "ExecuteTime": {
     "end_time": "2023-03-17T07:14:52.936819Z",
     "start_time": "2023-03-17T07:14:52.922195Z"
    }
   },
   "outputs": [],
   "source": [
    "# Use the number of column of first dataframe as reference, and check if the others are the same as it via for-loop. \n",
    "# Save the result in a list.(以列表中第一個數值為標準 (第一個資料框的欄數)，透過迴圈檢查美個資料框的欄數是否與之相同，並將結果生成為布林值存成一個列表)\n",
    "# all() 只有在括號中的列表全部都是 True 時才會回傳 True\n",
    "boolean_list = []\n",
    "for i in number_of_rows:\n",
    "    boolean_list.append(i == number_of_columns[0])\n",
    "\n",
    "if all(boolean_list) == True: # all() returns True only if all elements in the list are True (all() 只有在括號中的列表全部都是 True 時才會回傳 True)\n",
    "    print(\"the number of columns are all the same!\")\n",
    "else:\n",
    "    print(\"something worng\")"
   ]
  },
  {
   "cell_type": "markdown",
   "metadata": {
    "ExecuteTime": {
     "end_time": "2023-02-17T05:13:29.092736Z",
     "start_time": "2023-02-17T05:13:29.077691Z"
    }
   },
   "source": [
    "## Name the first two columns which are currently blank (幫 egeda 原始資料缺乏欄位名稱的前兩欄命名)"
   ]
  },
  {
   "cell_type": "code",
   "execution_count": null,
   "metadata": {
    "ExecuteTime": {
     "end_time": "2023-03-17T07:14:52.952092Z",
     "start_time": "2023-03-17T07:14:52.938818Z"
    }
   },
   "outputs": [],
   "source": [
    "for i in economies:\n",
    "    RawEGEDA[i].rename(columns = {'Unnamed: 0': 'fuels', 'Unnamed: 1': 'sectors'}, inplace = True)"
   ]
  },
  {
   "cell_type": "markdown",
   "metadata": {
    "ExecuteTime": {
     "end_time": "2023-02-17T05:13:29.153713Z",
     "start_time": "2023-02-17T05:13:29.139753Z"
    }
   },
   "source": [
    "## Prepare lists for dataframe merging process later"
   ]
  },
  {
   "cell_type": "markdown",
   "metadata": {
    "ExecuteTime": {
     "end_time": "2023-02-17T05:13:29.153713Z",
     "start_time": "2023-02-17T05:13:29.139753Z"
    }
   },
   "source": [
    "### Year\n",
    "- Some regions have 2021 data but it is incomplete, and so we only want data to 2020\n",
    "- Let the last year of historical data be 2020."
   ]
  },
  {
   "cell_type": "code",
   "execution_count": null,
   "metadata": {
    "ExecuteTime": {
     "end_time": "2023-03-17T07:14:52.968209Z",
     "start_time": "2023-03-17T07:14:52.953672Z"
    }
   },
   "outputs": [],
   "source": [
    "years = list(range(1980, 2020+1, 1))"
   ]
  },
  {
   "cell_type": "code",
   "execution_count": null,
   "metadata": {
    "ExecuteTime": {
     "end_time": "2023-03-17T07:14:52.983770Z",
     "start_time": "2023-03-17T07:14:52.969108Z"
    }
   },
   "outputs": [],
   "source": [
    "years[-1]"
   ]
  },
  {
   "cell_type": "markdown",
   "metadata": {
    "ExecuteTime": {
     "end_time": "2023-02-16T08:22:26.579938Z",
     "start_time": "2023-02-16T08:22:26.545771Z"
    }
   },
   "source": [
    "### Economy\n",
    "- In raw data, the item numbers are: numbers+economyname (egeda 中以「編號+經濟體代碼」的方式標示)\n",
    "- We would like: numbers+_+economyname (我們想要的則是「編號+_+經濟體代碼」)\n",
    "- Load the reference table that we prepared in advance. (我們透過一個另外準備的 csv 檔案，裡面則為兩種標示法的對照，並以字典方式讀入)"
   ]
  },
  {
   "cell_type": "code",
   "execution_count": null,
   "metadata": {
    "ExecuteTime": {
     "end_time": "2023-03-17T07:14:52.999094Z",
     "start_time": "2023-03-17T07:14:52.984593Z"
    }
   },
   "outputs": [],
   "source": [
    "economy_dict = pd.read_csv('./data/economy_dict.csv', header = None, index_col = 0).squeeze('columns').to_dict()\n",
    "# economy_dict"
   ]
  },
  {
   "cell_type": "markdown",
   "metadata": {
    "ExecuteTime": {
     "end_time": "2023-02-16T08:24:52.301489Z",
     "start_time": "2023-02-16T08:24:52.281503Z"
    }
   },
   "source": [
    "# From dict to dataframe and From wide-df to long df (把字典的資料框合併在一起同時將資料轉成長表格)\n",
    "- In the for-loop, we melted the wide-df into long-df and saved them in a list one after another.  (對象為字典中的每一個資料框)\n",
    "- Then we concat all df in the list into a large one."
   ]
  },
  {
   "cell_type": "markdown",
   "metadata": {
    "ExecuteTime": {
     "end_time": "2023-02-17T05:45:03.682111Z",
     "start_time": "2023-02-17T05:45:03.665371Z"
    }
   },
   "source": [
    "## Single economy for example (範例：單一經濟體)"
   ]
  },
  {
   "cell_type": "markdown",
   "metadata": {
    "ExecuteTime": {
     "end_time": "2023-02-16T08:24:52.301489Z",
     "start_time": "2023-02-16T08:24:52.281503Z"
    }
   },
   "source": [
    "## Combine all dataframes into single large one: all economies for-loop (迴圈跑遍所有經濟體，並將多個經濟體的資料合併為一個巨大資料框)"
   ]
  },
  {
   "cell_type": "code",
   "execution_count": null,
   "metadata": {
    "ExecuteTime": {
     "end_time": "2023-03-17T07:14:54.989938Z",
     "start_time": "2023-03-17T07:14:52.999852Z"
    }
   },
   "outputs": [],
   "source": [
    "df_list = []\n",
    "\n",
    "for i in economies:\n",
    "    temp_ebt_df_economy_wide = RawEGEDA[i]\n",
    "    temp_ebt_df_economy_long = pd.melt(temp_ebt_df_economy_wide, id_vars = ['fuels', 'sectors'], value_vars = years, var_name = 'year', value_name = 'value')\n",
    "    temp_ebt_df_economy_long['economy'] = economy_dict[i] # add a new col called 'economy', which is in the format that we preferred (e.g., 01_AUS). (這邊新增一欄，並使用先前字典裏面的經濟體對應關係去對應)\n",
    "    temp_ebt_df_economy_long = temp_ebt_df_economy_long.set_index(['economy', 'year']) # Use economy and year as index (將經濟體與年份設定為索引值)\n",
    "    df_list.append(temp_ebt_df_economy_long) # Save all df into the list (把各經濟體的資料框依序存在清單中)"
   ]
  },
  {
   "cell_type": "code",
   "execution_count": null,
   "metadata": {
    "ExecuteTime": {
     "end_time": "2023-03-17T07:14:55.694035Z",
     "start_time": "2023-03-17T07:14:54.990651Z"
    }
   },
   "outputs": [],
   "source": [
    "df = pd.concat(df_list) # vertical combine (將清單中的經濟體做垂直合併)"
   ]
  },
  {
   "cell_type": "code",
   "execution_count": null,
   "metadata": {
    "ExecuteTime": {
     "end_time": "2023-03-17T07:14:55.881226Z",
     "start_time": "2023-03-17T07:14:55.695055Z"
    }
   },
   "outputs": [],
   "source": [
    "df.info()"
   ]
  },
  {
   "cell_type": "markdown",
   "metadata": {},
   "source": [
    "## Standarlization (標準化)\n",
    "- standarlize col names and variable names\n",
    "- blank, special symbols are not allowed (空格、特殊符號都是不被允許的)\n",
    "- use underscore if necessary. (如果真有必要使用，使用 _)\n",
    "- notice that we replace '&' with 'and'."
   ]
  },
  {
   "cell_type": "markdown",
   "metadata": {
    "ExecuteTime": {
     "end_time": "2023-02-17T06:24:09.804920Z",
     "start_time": "2023-02-17T06:24:09.804920Z"
    }
   },
   "source": [
    "### Col name (標準化欄位名稱)\n",
    "- In this case, the col names do not need to be changed."
   ]
  },
  {
   "cell_type": "markdown",
   "metadata": {
    "ExecuteTime": {
     "end_time": "2023-02-17T06:53:04.282828Z",
     "start_time": "2023-02-17T06:53:04.271840Z"
    }
   },
   "source": [
    "#### blank (空格換底線)"
   ]
  },
  {
   "cell_type": "markdown",
   "metadata": {
    "ExecuteTime": {
     "end_time": "2023-02-17T06:24:09.804920Z",
     "start_time": "2023-02-17T06:24:09.804920Z"
    }
   },
   "source": [
    "#### uppercase (大寫換小寫)"
   ]
  },
  {
   "cell_type": "markdown",
   "metadata": {
    "ExecuteTime": {
     "end_time": "2023-02-17T06:24:09.804920Z",
     "start_time": "2023-02-17T06:24:09.804920Z"
    }
   },
   "source": [
    "### variable names (標準化數值)"
   ]
  },
  {
   "cell_type": "markdown",
   "metadata": {
    "ExecuteTime": {
     "end_time": "2023-02-17T06:24:09.804920Z",
     "start_time": "2023-02-17T06:24:09.804920Z"
    }
   },
   "source": [
    "#### Remove multiple blank (移除多餘的「連續空格」)\n",
    "- \\s indicates one or multiple (\\s 在正則表達式中，代表一個或多個連續空格)"
   ]
  },
  {
   "cell_type": "code",
   "execution_count": null,
   "metadata": {
    "ExecuteTime": {
     "end_time": "2023-03-17T07:15:30.386136Z",
     "start_time": "2023-03-17T07:14:55.881976Z"
    }
   },
   "outputs": [],
   "source": [
    "# And remove multiple spaces from variables\n",
    "df['fuels'] = df['fuels'].replace('\\s+', ' ', regex = True)\n",
    "df['sectors'] = df['sectors'].replace('\\s+', ' ', regex = True)"
   ]
  },
  {
   "cell_type": "markdown",
   "metadata": {
    "ExecuteTime": {
     "end_time": "2023-02-17T06:24:09.804920Z",
     "start_time": "2023-02-17T06:24:09.804920Z"
    }
   },
   "source": [
    "#### Convert to lowercase (全部變小寫)"
   ]
  },
  {
   "cell_type": "code",
   "execution_count": null,
   "metadata": {
    "ExecuteTime": {
     "end_time": "2023-03-17T07:15:34.445823Z",
     "start_time": "2023-03-17T07:15:30.395048Z"
    }
   },
   "outputs": [],
   "source": [
    "df['fuels'] = df['fuels'].str.lower()\n",
    "df['sectors'] = df['sectors'].str.lower()"
   ]
  },
  {
   "cell_type": "markdown",
   "metadata": {
    "ExecuteTime": {
     "end_time": "2023-02-17T07:09:22.976382Z",
     "start_time": "2023-02-17T07:09:22.976382Z"
    }
   },
   "source": [
    "#### Underscore rocks (細節修正：底線 rocks)"
   ]
  },
  {
   "cell_type": "markdown",
   "metadata": {
    "ExecuteTime": {
     "end_time": "2023-02-17T07:09:22.977378Z",
     "start_time": "2023-02-17T07:09:22.977378Z"
    }
   },
   "source": [
    "#####  Replace all (正式排除對原始資料框進行處理)"
   ]
  },
  {
   "cell_type": "code",
   "execution_count": null,
   "metadata": {
    "ExecuteTime": {
     "end_time": "2023-03-17T07:16:25.752726Z",
     "start_time": "2023-03-17T07:15:34.445823Z"
    }
   },
   "outputs": [],
   "source": [
    "# fuels_code\n",
    "\n",
    "df['fuels'] = df['fuels'].str.replace(' ', '_', regex = False)\\\n",
    "                                       .str.replace('.', '_', regex = False)\\\n",
    "                                       .str.replace('/', '_', regex = False)\\\n",
    "                                       .str.replace('(', '', regex = False)\\\n",
    "                                       .str.replace(')', '', regex = False)\\\n",
    "                                       .str.replace('-', '', regex = False)\\\n",
    "                                       .str.replace(',', '', regex = False)\\\n",
    "                                       .str.replace('&', 'and', regex = False)\\\n",
    "                                       .str.replace('___', '_', regex = False)\\\n",
    "                                       .str.replace('__', '_', regex = False)\\\n",
    "                                       .str.replace(':', '', regex = False)\\\n",
    "                                       .str.replace('liqour', 'liquor', regex = False)\\\n",
    "                                       .str.rstrip('_')\n",
    "\n",
    "# sectors_code\n",
    "\n",
    "df['sectors'] = df['sectors'].str.replace(' ', '_', regex = False)\\\n",
    "                                 .str.replace('.', '_', regex = False)\\\n",
    "                                 .str.replace('/', '_', regex = False)\\\n",
    "                                 .str.replace('(', '', regex = False)\\\n",
    "                                 .str.replace(')', '', regex = False)\\\n",
    "                                 .str.replace('-', '', regex = False)\\\n",
    "                                 .str.replace(',', '', regex = False)\\\n",
    "                                 .str.replace('&', 'and', regex = False)\\\n",
    "                                 .str.replace('___', '_', regex = False)\\\n",
    "                                 .str.replace('__', '_', regex = False)\\\n",
    "                                 .str.replace(':', '', regex = False)\\\n",
    "                                 .str.rstrip('_')"
   ]
  },
  {
   "cell_type": "markdown",
   "metadata": {
    "ExecuteTime": {
     "end_time": "2023-02-17T07:39:11.248062Z",
     "start_time": "2023-02-17T07:38:24.761135Z"
    }
   },
   "source": [
    "#### Transfer item_number into two digits (將 item_number 換成兩位數)"
   ]
  },
  {
   "cell_type": "code",
   "execution_count": null,
   "metadata": {
    "ExecuteTime": {
     "end_time": "2023-03-17T07:17:07.997991Z",
     "start_time": "2023-03-17T07:16:25.752726Z"
    }
   },
   "outputs": [],
   "source": [
    "df['fuels'] = df['fuels'].apply(lambda x: re.sub(r'\\d+', lambda y: y.group(0).zfill(2), x))\n",
    "df['sectors'] = df['sectors'].apply(lambda x: re.sub(r'\\d+', lambda y: y.group(0).zfill(2), x))"
   ]
  },
  {
   "cell_type": "code",
   "execution_count": null,
   "metadata": {
    "ExecuteTime": {
     "end_time": "2023-03-17T07:19:10.987860Z",
     "start_time": "2023-03-17T07:19:10.207333Z"
    }
   },
   "outputs": [],
   "source": [
    "# df[((df['fuels'] == '03_peat') | (df['fuels'] == '04_peat_products')) & ((df['value'] != 0))]"
   ]
  },
  {
   "cell_type": "markdown",
   "metadata": {
    "ExecuteTime": {
     "end_time": "2023-02-17T07:09:22.979374Z",
     "start_time": "2023-02-17T07:09:22.979374Z"
    }
   },
   "source": [
    "## Comparison between current layout and your self-defined layout (比較 WU_layout 跟迄今的資整結果)\n",
    "- The above process convert the EGEDA raw data into a dataframe in a well-accepted format (df).\n",
    "- However, the ultimate purpose of this file is to prepare a modeller-friendly historical data and layout for modeller to use and fill in their model result. \n",
    "- We probably need to make some new definition or add new rows to the energy balance table (EBT). Let's call it sd_layout here.\n",
    "    - We created a new datafolder in data folders and put the sd_layout of fuel and sector in it.\n",
    "        - .\\data\\fuel_list.xlsx\n",
    "        - .\\data\\sector_list.xlsx\n",
    "- The features of sd_layout\n",
    "    - multiple cols for sector(5) and fuels(2) (df only have one sector col and one fuel col)\n",
    "    - if we use the last_col for sector and fuel of the sd_layout, the layout would be similar to current df.\n",
    "    - the format generally follow the above rules\n",
    "    - **item number should not be the same as the current df** because we probably do aggregation or add new fuels/ sectors already.\n",
    "- So the idea here would be  \n",
    "    1. (**Do it in python**) export the current df to excel file  \n",
    "        - .\\temp\\clean_egeda_fuel_name.xlsx\n",
    "        - .\\temp\\clean_egeda_sector_name.xlsx\n",
    "    2. create new files \n",
    "        - .\\data\\reference_table_fuel.xlsx \n",
    "        - .\\data\\reference_table_sector.xlsx\n",
    "    3. copy the clean_egeda cols and the sd_layout, and then paste them to the excel files that you just created  \n",
    "    4. align the name of fuels and sector, and mark the differences in other cols.\n",
    "    5. (**Do it in python**) Do final check for the remaining inconsistent parts in python (**notice that we do not revise in python but in excel**)\n",
    "        - read the excel files, drop the item numbers, and do the comparison in this file.  \n",
    "        - You may find the cases like\n",
    "            - exactly the same\n",
    "            - minor difference\n",
    "            - exist in current df but not sd_layout (aggregation)\n",
    "            - exist in sd_layout but not current df (new-defined or minus)\n",
    "    4. fix the minor difference in excel and save it as new excel file (e.g., reference_table_fuel_revised.xlsx).\n",
    "    5. import the file (except for item number, there should not be minor difference anymore)\n",
    "- (Important) Paste the revised fule and sector cols to these files which record almost every edition of the fule and sector name. Remember to revise the multiple cols and make it the same data format, we will use this file later.\n",
    "    - EBT_column_fuels.xlsx\n",
    "    - EBT_row_sectors.xlsx"
   ]
  },
  {
   "cell_type": "markdown",
   "metadata": {
    "ExecuteTime": {
     "end_time": "2023-02-17T07:09:22.979374Z",
     "start_time": "2023-02-17T07:09:22.979374Z"
    }
   },
   "source": [
    "### Export the fuel and sector columns from df (輸出迄今為止的 sector 與 fuel 進行觀察)\n"
   ]
  },
  {
   "cell_type": "code",
   "execution_count": null,
   "metadata": {
    "ExecuteTime": {
     "end_time": "2023-03-17T07:20:15.707669Z",
     "start_time": "2023-03-17T07:20:14.591155Z"
    }
   },
   "outputs": [],
   "source": [
    "unique_fuels = df['fuels'].unique()\n",
    "unique_sectors = df['sectors'].unique()"
   ]
  },
  {
   "cell_type": "code",
   "execution_count": null,
   "metadata": {
    "ExecuteTime": {
     "end_time": "2023-03-17T07:20:20.798565Z",
     "start_time": "2023-03-17T07:20:20.789339Z"
    }
   },
   "outputs": [],
   "source": [
    "unique_fuels_df = pd.DataFrame({'clean_egeda_fuel_name': unique_fuels})\n",
    "# unique_fuels_df"
   ]
  },
  {
   "cell_type": "code",
   "execution_count": null,
   "metadata": {
    "ExecuteTime": {
     "end_time": "2023-03-17T07:20:25.710531Z",
     "start_time": "2023-03-17T07:20:25.696212Z"
    }
   },
   "outputs": [],
   "source": [
    "unique_sectors_df = pd.DataFrame({'clean_egeda_sector_name': unique_sectors})\n",
    "# unique_sectors_df"
   ]
  },
  {
   "cell_type": "code",
   "execution_count": null,
   "metadata": {
    "ExecuteTime": {
     "end_time": "2023-03-17T07:20:30.862638Z",
     "start_time": "2023-03-17T07:20:30.637914Z"
    }
   },
   "outputs": [],
   "source": [
    "import os\n",
    "folder_path = './temp'\n",
    "os.makedirs(folder_path, exist_ok=True)\n",
    "\n",
    "result_path = os.path.join(folder_path, 'clean_egeda_fuel_name.xlsx')\n",
    "unique_fuels_df.to_excel(result_path, index = False)\n",
    "\n",
    "result_path = os.path.join(folder_path, 'clean_egeda_sector_name.xlsx')\n",
    "unique_sectors_df.to_excel(result_path, index = False)"
   ]
  },
  {
   "cell_type": "markdown",
   "metadata": {
    "ExecuteTime": {
     "end_time": "2023-02-17T15:47:59.732041Z",
     "start_time": "2023-02-17T15:47:59.688049Z"
    }
   },
   "source": [
    "### (Do it in excel) Compare the self-defined layout (在excel 製造對照表：自定義的欄位跟前面資整的欄位)\n",
    "- create new files \n",
    "    - .\\manuel_adjust\\reference_table_fuel.xlsx \n",
    "    - .\\manuel_adjust\\reference_table_sector.xlsx\n",
    "- copy the clean_egeda cols and the sd_layout, and then paste them to the excel files that you just created  \n",
    "- align the name of fuels and sector, and mark the differences in other cols."
   ]
  },
  {
   "cell_type": "markdown",
   "metadata": {
    "ExecuteTime": {
     "end_time": "2023-02-20T03:02:05.852381Z",
     "start_time": "2023-02-20T03:02:05.852381Z"
    }
   },
   "source": [
    "#### Check if there are still differences in the fuel name (ignore the item number)"
   ]
  },
  {
   "cell_type": "code",
   "execution_count": null,
   "metadata": {
    "ExecuteTime": {
     "end_time": "2023-03-17T07:20:36.225828Z",
     "start_time": "2023-03-17T07:20:36.177606Z"
    }
   },
   "outputs": [],
   "source": [
    "fuel_reference_table = pd.read_excel('./data/manuel_adjust/reference_table_fuel.xlsx')"
   ]
  },
  {
   "cell_type": "code",
   "execution_count": null,
   "metadata": {
    "ExecuteTime": {
     "end_time": "2023-03-17T07:20:41.363777Z",
     "start_time": "2023-03-17T07:20:41.350629Z"
    }
   },
   "outputs": [],
   "source": [
    "# drop the item number (把編號拿掉，並用迴圈逐步清除)\n",
    "for i in range(0, 2, 1):\n",
    "    fuel_reference_table['clean_egeda_fuel_name'] = fuel_reference_table['clean_egeda_fuel_name'].str.replace(r'^\\d*_', '')\n",
    "    fuel_reference_table['unique_the_end_of_fuels'] = fuel_reference_table['unique_the_end_of_fuels'].str.replace(r'^\\d*_', '')"
   ]
  },
  {
   "cell_type": "code",
   "execution_count": null,
   "metadata": {
    "ExecuteTime": {
     "end_time": "2023-03-17T07:20:47.008214Z",
     "start_time": "2023-03-17T07:20:46.994310Z"
    }
   },
   "outputs": [],
   "source": [
    "# list the differences\n",
    "fuel_reference_table['not_equal'] = fuel_reference_table['clean_egeda_fuel_name'] != fuel_reference_table['unique_the_end_of_fuels']"
   ]
  },
  {
   "cell_type": "code",
   "execution_count": null,
   "metadata": {
    "ExecuteTime": {
     "end_time": "2023-03-17T07:20:52.845153Z",
     "start_time": "2023-03-17T07:20:52.821462Z"
    }
   },
   "outputs": [],
   "source": [
    "diff_fuel = fuel_reference_table[fuel_reference_table['not_equal'] == True].sort_values(['how', 'unique_the_end_of_fuels'])\n",
    "# diff_fuel.tail(10)"
   ]
  },
  {
   "cell_type": "code",
   "execution_count": null,
   "metadata": {
    "ExecuteTime": {
     "end_time": "2023-03-17T07:20:58.872730Z",
     "start_time": "2023-03-17T07:20:58.854096Z"
    }
   },
   "outputs": [],
   "source": [
    "# # format difference that should be revise in excel\n",
    "# diff_fuel[(diff_fuel['clean_egeda_fuel_name'].notnull()) & (diff_fuel['unique_the_end_of_fuels'].notnull())]"
   ]
  },
  {
   "cell_type": "markdown",
   "metadata": {
    "ExecuteTime": {
     "end_time": "2023-02-20T03:02:05.860359Z",
     "start_time": "2023-02-20T03:02:05.860359Z"
    }
   },
   "source": [
    "#### Check if there are still differences in the sector name (ignore the item number)"
   ]
  },
  {
   "cell_type": "code",
   "execution_count": null,
   "metadata": {
    "ExecuteTime": {
     "end_time": "2023-03-17T07:21:04.807226Z",
     "start_time": "2023-03-17T07:21:04.743216Z"
    }
   },
   "outputs": [],
   "source": [
    "sector_reference_table = pd.read_excel('./data/manuel_adjust/reference_table_sector.xlsx')"
   ]
  },
  {
   "cell_type": "code",
   "execution_count": null,
   "metadata": {
    "ExecuteTime": {
     "end_time": "2023-03-17T07:21:10.315402Z",
     "start_time": "2023-03-17T07:21:10.303274Z"
    }
   },
   "outputs": [],
   "source": [
    "# drop the item number (把編號拿掉，並用迴圈逐步清除)\n",
    "for i in range(0, 3, 1):\n",
    "    sector_reference_table['clean_egeda_sector_name'] = sector_reference_table['clean_egeda_sector_name'].str.replace(r'^\\d*_', '')\n",
    "    sector_reference_table['unique_the_end_of_sectors'] = sector_reference_table['unique_the_end_of_sectors'].str.replace(r'^\\d*_', '')"
   ]
  },
  {
   "cell_type": "code",
   "execution_count": null,
   "metadata": {
    "ExecuteTime": {
     "end_time": "2023-03-17T07:21:15.748771Z",
     "start_time": "2023-03-17T07:21:15.734333Z"
    }
   },
   "outputs": [],
   "source": [
    "# list the differences\n",
    "sector_reference_table['not_equal'] = sector_reference_table['clean_egeda_sector_name'] != sector_reference_table['unique_the_end_of_sectors']"
   ]
  },
  {
   "cell_type": "code",
   "execution_count": null,
   "metadata": {
    "ExecuteTime": {
     "end_time": "2023-03-17T07:21:21.099613Z",
     "start_time": "2023-03-17T07:21:21.085350Z"
    }
   },
   "outputs": [],
   "source": [
    "diff_sector = sector_reference_table[sector_reference_table['not_equal'] == True].sort_values(['how', 'unique_the_end_of_sectors'])"
   ]
  },
  {
   "cell_type": "code",
   "execution_count": null,
   "metadata": {
    "ExecuteTime": {
     "end_time": "2023-03-17T07:21:26.843823Z",
     "start_time": "2023-03-17T07:21:26.830859Z"
    }
   },
   "outputs": [],
   "source": [
    "# # format difference that should be revise in excel\n",
    "# diff_sector[(diff_sector['clean_egeda_sector_name'].notnull()) & (diff_sector['unique_the_end_of_sectors'].notnull())]"
   ]
  },
  {
   "cell_type": "markdown",
   "metadata": {
    "ExecuteTime": {
     "end_time": "2023-02-22T08:39:44.333462Z",
     "start_time": "2023-02-22T08:39:44.319434Z"
    }
   },
   "source": [
    "### (Do it in excel) Fix the format difference\n",
    "- Ideally, the item names of cleaned EGEDA and self-defined layout should be the same.\n",
    "- This section gives you a change to check and revise accidental difference.\n",
    "- ```diff_fule```and ```diff_sector``` allow you to check the difference.\n",
    "---\n",
    "- \"format difference that should be revise in excel\" shows data format you should revise in excel\n",
    "- Afetr revision, except for the item number, the data format should be the same.\n",
    "- Save them as new files \n",
    "    - .\\data\\reference_table_fuel_revised.xlsx \n",
    "    - .\\data\\reference_table_sector_revised.xlsx \n",
    "    \n",
    "---\n",
    "FYI, the differences in data format\n",
    "1. Replace & with\n",
    "    - Wu: _\n",
    "    - Mat: and\n",
    "2. unnecessary commas\n",
    "3. typos from original EGEDA dataset: It should be liquor instead of liqour.\n",
    "\n",
    "**總結一下對照的發現**\n",
    "- 除了新增欄位外，命名差異主要為 & \n",
    "    - 我用 _ 取代\n",
    "    - Mat 用 and 取代\n",
    "- 在 sector 中，有部分的資料中有多餘的逗號  \n",
    "- 在 fuel 中，有一個拼錯的字：'liqour'，改成 'liquor'"
   ]
  },
  {
   "cell_type": "markdown",
   "metadata": {
    "ExecuteTime": {
     "end_time": "2023-02-20T03:02:05.871330Z",
     "start_time": "2023-02-20T03:02:05.871330Z"
    }
   },
   "source": [
    "# Connect the sd_layout with the EGEDA historical data (df)\n",
    "1. Improt the revised reference table\n",
    "2. \"clean_egeda_fuel_name\" and \"fuels\" have the same values but different data points. We use this property to connect the historical data (df) to sd_layout.\n",
    "3. Create rows (new rows, minus) and aggregate rows (create new ones and discard old ones).\n",
    "4. Merge the multiple cols (indicate different levels) to the EGEDA historical data (df).\n",
    "---\n",
    "**下一步**\n",
    "- 接下來的作業就是將新的對照表、layout 引入\n",
    "- 依照對照表，將清理後的 sector 跟 fuel 取代為我的版本\n",
    "- 處理相加、相減、以及新增欄位，記得把相加後不需要的素材欄位刪掉\n",
    "- 透過 merge 讓 layout 的多欄位正確對應資料框"
   ]
  },
  {
   "cell_type": "markdown",
   "metadata": {
    "ExecuteTime": {
     "end_time": "2023-02-27T02:18:49.651447Z",
     "start_time": "2023-02-27T02:18:49.604993Z"
    }
   },
   "source": [
    "## Import data"
   ]
  },
  {
   "cell_type": "code",
   "execution_count": null,
   "metadata": {
    "ExecuteTime": {
     "end_time": "2023-03-17T07:21:32.607424Z",
     "start_time": "2023-03-17T07:21:32.539216Z"
    }
   },
   "outputs": [],
   "source": [
    "fuel_mapping = pd.read_excel('./data/manuel_adjust/reference_table_fuel_revised.xlsx', usecols = [0, 1])\n",
    "sector_mapping = pd.read_excel('./data/manuel_adjust/reference_table_sector_revised.xlsx', usecols = [0, 1])\n",
    "# 這兩份資料均處理了多餘的逗號、拼錯字的部分"
   ]
  },
  {
   "cell_type": "markdown",
   "metadata": {
    "ExecuteTime": {
     "end_time": "2023-02-20T05:20:53.151678Z",
     "start_time": "2023-02-20T05:20:53.136412Z"
    }
   },
   "source": [
    "## Replace the data in \"fuels\" series with \"unique_the_end_of_fuels\" series (將 fuels 取代為自定義版本)"
   ]
  },
  {
   "cell_type": "markdown",
   "metadata": {
    "ExecuteTime": {
     "end_time": "2023-02-27T02:18:51.490003Z",
     "start_time": "2023-02-27T02:18:51.480733Z"
    }
   },
   "source": [
    "### Merge the \"fuel_mapping\" with \"df\" "
   ]
  },
  {
   "cell_type": "code",
   "execution_count": null,
   "metadata": {
    "ExecuteTime": {
     "end_time": "2023-03-17T07:21:38.496339Z",
     "start_time": "2023-03-17T07:21:38.151859Z"
    }
   },
   "outputs": [],
   "source": [
    "# We don't need the multiple index (ecnomy, year)\n",
    "df_no_year_econ_index = df.reset_index()"
   ]
  },
  {
   "cell_type": "code",
   "execution_count": null,
   "metadata": {
    "ExecuteTime": {
     "end_time": "2023-03-17T07:22:02.170463Z",
     "start_time": "2023-03-17T07:22:00.406705Z"
    }
   },
   "outputs": [],
   "source": [
    "# Notice that the values in \"fuels\" and \"clean_egeda_fuel_name\" are the same\n",
    "# You can check with the following code\n",
    "# test = df_fuel.loc[df_fuel['fuels'] != df_fuel['clean_egeda_fuel_name']]\n",
    "# test\n",
    "\n",
    "df_fuel = pd.merge(df_no_year_econ_index, fuel_mapping, how = 'left', left_on = 'fuels', right_on = 'clean_egeda_fuel_name')\n",
    "# df_fuel"
   ]
  },
  {
   "cell_type": "code",
   "execution_count": null,
   "metadata": {
    "ExecuteTime": {
     "end_time": "2023-03-17T07:22:41.271989Z",
     "start_time": "2023-03-17T07:22:40.506540Z"
    }
   },
   "outputs": [],
   "source": [
    "# df_fuel[((df_fuel['fuels'] == '03_peat') | (df_fuel['fuels'] == '04_peat_products')) & ((df_fuel['value'] != 0))]"
   ]
  },
  {
   "cell_type": "code",
   "execution_count": null,
   "metadata": {
    "ExecuteTime": {
     "end_time": "2023-03-17T07:22:46.699260Z",
     "start_time": "2023-03-17T07:22:46.692483Z"
    }
   },
   "outputs": [],
   "source": [
    "# df_fuel[df_fuel['unique_the_end_of_fuels'] == '16_11_ammonia']"
   ]
  },
  {
   "cell_type": "code",
   "execution_count": null,
   "metadata": {
    "ExecuteTime": {
     "end_time": "2023-03-17T07:22:51.948836Z",
     "start_time": "2023-03-17T07:22:51.934992Z"
    }
   },
   "outputs": [],
   "source": [
    "# # example of same item name/ format but different item_number: unique_the_end_of_fuels\n",
    "# df_fuel[df_fuel['fuels']=='01_05_lignite']"
   ]
  },
  {
   "cell_type": "markdown",
   "metadata": {
    "ExecuteTime": {
     "end_time": "2023-02-27T02:29:47.613092Z",
     "start_time": "2023-02-27T02:29:46.560048Z"
    }
   },
   "source": [
    "## Replace the fules series\n",
    "1. create \"replace_materials\" series that is based on \"unique_the_end_of_fuels\" series with NaN filled by fuels\n",
    "2. The content of \"replace_materials\" series ```df_fuel['replace_materials'] = df_fuel['unique_the_end_of_fuels'].fillna(df_fuel['fuels'])\n",
    "```\n",
    "    - \"fuels\"-null; \"unique_the_end_of_fuels\"-notnull → use \"unique_the_end_of_fuels\"\n",
    "    - \"fuels\"-notnull; \"unique_the_end_of_fuels\"-notnull → use \"unique_the_end_of_fuels\" \n",
    "    - \"fuels\"-notnull; \"unique_the_end_of_fuels\"-null → use \"fuels\"\n",
    "\n",
    "| fules    | replace | uni    |\n",
    "| -------- | :-----: | :---   |\n",
    "| Alice→   |  Alice  | nan    |\n",
    "| nan      |  Bob    | ←Bob   |\n",
    "| Charlie  |  David  | ←David |\n",
    "\n",
    "\n",
    "3. Use \"replace_materials\" series to replace the original 'fuels' series\n",
    "    - Although it's impossible to have nan \"replace_materials\" series, we still use  ```.where(df_fuel['replace_materials'].notnull()``` in the script\n",
    "| fules  | replace |\n",
    "| ------ | :------ |\n",
    "| Alice  | Alice   |\n",
    "| Bob    | ←Bob    |\n",
    "| David  | ←David  |\n",
    "\n"
   ]
  },
  {
   "cell_type": "code",
   "execution_count": null,
   "metadata": {
    "ExecuteTime": {
     "end_time": "2023-03-17T07:22:58.570517Z",
     "start_time": "2023-03-17T07:22:57.493463Z"
    }
   },
   "outputs": [],
   "source": [
    "df_fuel['replace_materials'] = df_fuel['unique_the_end_of_fuels'].fillna(df_fuel['fuels'])\n",
    "df_fuel['fuels'] = df_fuel['replace_materials'].where(df_fuel['replace_materials'].notnull(), df_fuel['fuels'])"
   ]
  },
  {
   "cell_type": "code",
   "execution_count": null,
   "metadata": {
    "ExecuteTime": {
     "end_time": "2023-03-17T07:23:04.693399Z",
     "start_time": "2023-03-17T07:23:04.677520Z"
    }
   },
   "outputs": [],
   "source": [
    "# # Check the result: If we succesfully replace the series, we should not filter out '01_03_lignite' (the item number is changed).\n",
    "# # 如果上式成功將自定義的名稱取代 fuels，則這個篩選結果應該找不到資料，因為自訂的的這筆資料已經換編號了\n",
    "# df_fuel[df_fuel['fuels']=='01_05_lignite']  "
   ]
  },
  {
   "cell_type": "code",
   "execution_count": null,
   "metadata": {
    "ExecuteTime": {
     "end_time": "2023-03-17T07:23:10.589599Z",
     "start_time": "2023-03-17T07:23:10.573561Z"
    }
   },
   "outputs": [],
   "source": [
    "# df_fuel[df_fuel['fuels']=='01_03_lignite']"
   ]
  },
  {
   "cell_type": "code",
   "execution_count": null,
   "metadata": {
    "ExecuteTime": {
     "end_time": "2023-03-17T07:23:16.924867Z",
     "start_time": "2023-03-17T07:23:16.480788Z"
    }
   },
   "outputs": [],
   "source": [
    "df_fuel.drop(['clean_egeda_fuel_name', 'unique_the_end_of_fuels', 'replace_materials'], axis= 1, inplace = True)"
   ]
  },
  {
   "cell_type": "markdown",
   "metadata": {
    "ExecuteTime": {
     "end_time": "2023-02-20T04:27:01.012735Z",
     "start_time": "2023-02-20T04:27:00.776368Z"
    }
   },
   "source": [
    "## Replace the data in \"sectors\" series with \"unique_the_end_of_sectors\" series (將 sectors 取代為我的版本)\n",
    "- similar to the process of fules"
   ]
  },
  {
   "cell_type": "code",
   "execution_count": null,
   "metadata": {
    "ExecuteTime": {
     "end_time": "2023-03-17T07:23:24.788142Z",
     "start_time": "2023-03-17T07:23:22.694724Z"
    }
   },
   "outputs": [],
   "source": [
    "df_fuel_sector = pd.merge(df_fuel, sector_mapping, how = 'left', left_on = 'sectors', right_on = 'clean_egeda_sector_name')"
   ]
  },
  {
   "cell_type": "code",
   "execution_count": null,
   "metadata": {
    "ExecuteTime": {
     "end_time": "2023-03-17T07:23:31.924824Z",
     "start_time": "2023-03-17T07:23:31.044090Z"
    }
   },
   "outputs": [],
   "source": [
    "df_fuel_sector['replace_materials'] = df_fuel_sector['unique_the_end_of_sectors'].fillna(df_fuel_sector['sectors'])\n",
    "df_fuel_sector['sectors'] = df_fuel_sector['replace_materials'].where(df_fuel_sector['replace_materials'].notnull(), df_fuel_sector['sectors'])"
   ]
  },
  {
   "cell_type": "code",
   "execution_count": null,
   "metadata": {
    "ExecuteTime": {
     "end_time": "2023-03-17T07:23:38.554927Z",
     "start_time": "2023-03-17T07:23:38.125800Z"
    }
   },
   "outputs": [],
   "source": [
    "df_fuel_sector.drop(['clean_egeda_sector_name', 'unique_the_end_of_sectors', 'replace_materials'], axis= 1, inplace = True)"
   ]
  },
  {
   "cell_type": "markdown",
   "metadata": {
    "ExecuteTime": {
     "end_time": "2023-02-20T04:27:01.012735Z",
     "start_time": "2023-02-20T04:27:00.776368Z"
    }
   },
   "source": [
    "# self_defined layout"
   ]
  },
  {
   "cell_type": "markdown",
   "metadata": {
    "ExecuteTime": {
     "end_time": "2023-02-27T03:13:09.996983Z",
     "start_time": "2023-02-27T03:13:09.731853Z"
    }
   },
   "source": [
    "## Import the data"
   ]
  },
  {
   "cell_type": "code",
   "execution_count": null,
   "metadata": {
    "ExecuteTime": {
     "end_time": "2023-03-17T07:23:44.948687Z",
     "start_time": "2023-03-17T07:23:44.641151Z"
    }
   },
   "outputs": [],
   "source": [
    "fuel_layout = pd.read_excel('./data/self_defined_layout/EBT_column_fuels.xlsx', sheet_name = 'fuel_layout_20230316', usecols = [0, 1])\n",
    "sector_layout = pd.read_excel('./data/self_defined_layout/EBT_row_sectors.xlsx', sheet_name = 'sector_layout_20230315', usecols = [0, 1, 2, 3, 4])"
   ]
  },
  {
   "cell_type": "markdown",
   "metadata": {
    "ExecuteTime": {
     "end_time": "2023-02-20T04:27:01.012735Z",
     "start_time": "2023-02-20T04:27:00.776368Z"
    }
   },
   "source": [
    "## clean the data again \n",
    "- Just in case, the data should be clean before this."
   ]
  },
  {
   "cell_type": "code",
   "execution_count": null,
   "metadata": {
    "ExecuteTime": {
     "end_time": "2023-03-17T07:23:50.806256Z",
     "start_time": "2023-03-17T07:23:50.779616Z"
    }
   },
   "outputs": [],
   "source": [
    "for i in fuel_layout.columns:\n",
    "    fuel_layout[i] =  fuel_layout[i].str.replace(' ', '_', regex = False)\\\n",
    "                                       .str.replace('.', '_', regex = False)\\\n",
    "                                       .str.replace('/', '_', regex = False)\\\n",
    "                                       .str.replace('(', '', regex = False)\\\n",
    "                                       .str.replace(')', '', regex = False)\\\n",
    "                                       .str.replace('-', '', regex = False)\\\n",
    "                                       .str.replace(',', '', regex = False)\\\n",
    "                                       .str.replace('&', 'and', regex = False)\\\n",
    "                                       .str.replace('___', '_', regex = False)\\\n",
    "                                       .str.replace('__', '_', regex = False)\\\n",
    "                                       .str.replace(':', '', regex = False)\\\n",
    "                                       .str.replace('liqour', 'liquor', regex = False)\\\n",
    "                                       .str.rstrip('_')\\\n",
    "                                        .replace('\\s+', ' ', regex = True)\\\n",
    "                                        .str.lower()"
   ]
  },
  {
   "cell_type": "code",
   "execution_count": null,
   "metadata": {
    "ExecuteTime": {
     "end_time": "2023-03-17T07:23:56.638521Z",
     "start_time": "2023-03-17T07:23:56.604074Z"
    }
   },
   "outputs": [],
   "source": [
    "for i in sector_layout.columns:\n",
    "    sector_layout[i] =  sector_layout[i].str.replace(' ', '_', regex = False)\\\n",
    "                                       .str.replace('.', '_', regex = False)\\\n",
    "                                       .str.replace('/', '_', regex = False)\\\n",
    "                                       .str.replace('(', '', regex = False)\\\n",
    "                                       .str.replace(')', '', regex = False)\\\n",
    "                                       .str.replace('-', '', regex = False)\\\n",
    "                                       .str.replace(',', '', regex = False)\\\n",
    "                                       .str.replace('&', 'and', regex = False)\\\n",
    "                                       .str.replace('___', '_', regex = False)\\\n",
    "                                       .str.replace('__', '_', regex = False)\\\n",
    "                                       .str.replace(':', '', regex = False)\\\n",
    "                                       .str.replace('liqour', 'liquor', regex = False)\\\n",
    "                                       .str.rstrip('_')\\\n",
    "                                        .replace('\\s+', ' ', regex = True)\\\n",
    "                                        .str.lower()"
   ]
  },
  {
   "cell_type": "markdown",
   "metadata": {
    "ExecuteTime": {
     "end_time": "2023-02-20T04:27:01.012735Z",
     "start_time": "2023-02-20T04:27:00.776368Z"
    }
   },
   "source": [
    "## Create key col for you to connect the multi cols and EGEDA data (創造介接的欄位)\n",
    "- key column is the lowest level of our self-define layout\n",
    "- you can get the lowest level in excel and python.\n",
    "- I did both anyway."
   ]
  },
  {
   "cell_type": "markdown",
   "metadata": {
    "ExecuteTime": {
     "end_time": "2023-02-20T07:34:41.073607Z",
     "start_time": "2023-02-20T07:34:41.060618Z"
    }
   },
   "source": [
    "### fuel"
   ]
  },
  {
   "cell_type": "code",
   "execution_count": null,
   "metadata": {
    "ExecuteTime": {
     "end_time": "2023-03-17T07:24:02.659118Z",
     "start_time": "2023-03-17T07:24:02.644523Z"
    }
   },
   "outputs": [],
   "source": [
    "# subfuels is the lowest level\n",
    "# We create a new col base on it\n",
    "fuel_layout['fuel_key_col'] = fuel_layout['subfuels']\n",
    "\n",
    "for i in range(len(fuel_layout)):\n",
    "    if fuel_layout.loc[i, 'subfuels'] == 'x':\n",
    "        fuel_layout.loc[i, 'fuel_key_col'] = fuel_layout.loc[i, 'fuels'] "
   ]
  },
  {
   "cell_type": "code",
   "execution_count": null,
   "metadata": {
    "ExecuteTime": {
     "end_time": "2023-03-17T07:24:08.473508Z",
     "start_time": "2023-03-17T07:24:08.458819Z"
    }
   },
   "outputs": [],
   "source": [
    "# print(len(fuel_layout['fuel_key_col'].unique()), len(fuel_layout)) # should be the same"
   ]
  },
  {
   "cell_type": "markdown",
   "metadata": {
    "ExecuteTime": {
     "end_time": "2023-02-20T07:39:32.455783Z",
     "start_time": "2023-02-20T07:39:32.436400Z"
    }
   },
   "source": [
    "### sector"
   ]
  },
  {
   "cell_type": "code",
   "execution_count": null,
   "metadata": {
    "ExecuteTime": {
     "end_time": "2023-03-17T07:24:14.473152Z",
     "start_time": "2023-03-17T07:24:14.414272Z"
    }
   },
   "outputs": [],
   "source": [
    "# sub4sectors is the lowest level\n",
    "# We create a new col base on it\n",
    "\n",
    "sector_layout['sector_key_col'] = sector_layout['sub4sectors']\n",
    "\n",
    "for i in range(len(sector_layout)):\n",
    "    if (sector_layout.loc[i, 'sub4sectors'] == 'x') & (sector_layout.loc[i, 'sub3sectors'] != 'x'):\n",
    "        sector_layout.loc[i, 'sector_key_col'] = sector_layout.loc[i, 'sub3sectors']\n",
    "    else:\n",
    "        if (sector_layout.loc[i, 'sub3sectors'] == 'x') & (sector_layout.loc[i, 'sub2sectors'] != 'x'):\n",
    "            sector_layout.loc[i, 'sector_key_col'] = sector_layout.loc[i, 'sub2sectors']\n",
    "        else:\n",
    "            if (sector_layout.loc[i, 'sub2sectors'] == 'x') & (sector_layout.loc[i, 'sub1sectors'] != 'x'):\n",
    "                sector_layout.loc[i, 'sector_key_col'] = sector_layout.loc[i, 'sub1sectors']\n",
    "            else:\n",
    "                if (sector_layout.loc[i, 'sub1sectors'] == 'x') & (sector_layout.loc[i, 'sectors'] != 'x'):\n",
    "                    sector_layout.loc[i, 'sector_key_col'] = sector_layout.loc[i, 'sectors']"
   ]
  },
  {
   "cell_type": "code",
   "execution_count": null,
   "metadata": {
    "ExecuteTime": {
     "end_time": "2023-03-17T07:24:26.364742Z",
     "start_time": "2023-03-17T07:24:26.361746Z"
    }
   },
   "outputs": [],
   "source": [
    "# print(len(sector_layout['sector_key_col'].unique()), len(sector_layout)) # should be the same"
   ]
  },
  {
   "cell_type": "code",
   "execution_count": null,
   "metadata": {
    "ExecuteTime": {
     "end_time": "2023-03-17T07:24:33.269099Z",
     "start_time": "2023-03-17T07:24:32.126466Z"
    }
   },
   "outputs": [],
   "source": [
    "# df_fuel_sector[((df_fuel_sector['fuels'] == '03_peat') | (df_fuel_sector['fuels'] == '04_peat_products')) & ((df_fuel_sector['value'] != 0))]"
   ]
  },
  {
   "cell_type": "markdown",
   "metadata": {
    "ExecuteTime": {
     "end_time": "2023-02-17T15:32:52.576759Z",
     "start_time": "2023-02-17T15:32:52.567785Z"
    }
   },
   "source": [
    "# Aggregation, Disaggregation, New rows (相加相減作業)\n",
    "- Notice that we deal with fuel, concating and excluding the targeted rows. \n",
    "- Based on the result, we deal with sectors, concating and excluding the trageted rows.\n",
    "- DO NOT deal with these two together first, then concating and excluding the trageted rows. It may cause failure of merging or missing data.\n",
    "---\n",
    "- BTW, df_fuel_sector is the latest, cleaned dataframe of the EGEDA historical data.\n",
    "\n"
   ]
  },
  {
   "cell_type": "markdown",
   "metadata": {
    "ExecuteTime": {
     "end_time": "2023-02-20T08:19:56.490996Z",
     "start_time": "2023-02-20T08:19:56.238484Z"
    }
   },
   "source": [
    "## Fuel"
   ]
  },
  {
   "cell_type": "markdown",
   "metadata": {
    "ExecuteTime": {
     "end_time": "2023-02-20T08:19:56.490996Z",
     "start_time": "2023-02-20T08:19:56.238484Z"
    }
   },
   "source": [
    "### Aggregation: 01_02_thermal_coal"
   ]
  },
  {
   "cell_type": "code",
   "execution_count": null,
   "metadata": {
    "ExecuteTime": {
     "end_time": "2023-03-17T07:26:05.717218Z",
     "start_time": "2023-03-17T07:26:05.703223Z"
    }
   },
   "outputs": [],
   "source": [
    "# df_fuel_sector[df_fuel_sector['fuels'] == '01_02_other_bituminous_coal']"
   ]
  },
  {
   "cell_type": "code",
   "execution_count": null,
   "metadata": {
    "ExecuteTime": {
     "end_time": "2023-03-17T07:26:11.579624Z",
     "start_time": "2023-03-17T07:26:11.346316Z"
    }
   },
   "outputs": [],
   "source": [
    "thermal_coal = df_fuel_sector[df_fuel_sector['fuels'].isin(['01_02_other_bituminous_coal', '01_03_subbituminous_coal', '01_04_anthracite', '03_peat', '04_peat_products'])]"
   ]
  },
  {
   "cell_type": "code",
   "execution_count": null,
   "metadata": {
    "ExecuteTime": {
     "end_time": "2023-03-17T07:26:17.144253Z",
     "start_time": "2023-03-17T07:26:17.129914Z"
    }
   },
   "outputs": [],
   "source": [
    "# thermal_coal[(thermal_coal['sectors'] == '19_04_ap_heat_plants') & (thermal_coal['economy'] == 'APEC') & (thermal_coal['year'] == 2020)]"
   ]
  },
  {
   "cell_type": "code",
   "execution_count": null,
   "metadata": {
    "ExecuteTime": {
     "end_time": "2023-03-17T07:26:22.671023Z",
     "start_time": "2023-03-17T07:26:22.549389Z"
    }
   },
   "outputs": [],
   "source": [
    "thermal_coal_g = thermal_coal.groupby(['economy', 'year', 'sectors'])['value'].sum().reset_index().assign(fuels = '01_02_thermal_coal')"
   ]
  },
  {
   "cell_type": "markdown",
   "metadata": {
    "ExecuteTime": {
     "end_time": "2023-02-20T08:19:56.490996Z",
     "start_time": "2023-02-20T08:19:56.238484Z"
    }
   },
   "source": [
    "### Aggregation: 04_03_other_hydrocarbons"
   ]
  },
  {
   "cell_type": "code",
   "execution_count": null,
   "metadata": {
    "ExecuteTime": {
     "end_time": "2023-03-17T07:26:28.949769Z",
     "start_time": "2023-03-17T07:26:28.620587Z"
    }
   },
   "outputs": [],
   "source": [
    "other_hydrocarbons = df_fuel_sector[df_fuel_sector['fuels'].isin(['06_03_refinery_feedstocks', '06_04_additives_oxygenates', '06_05_other_hydrocarbons'])]"
   ]
  },
  {
   "cell_type": "code",
   "execution_count": null,
   "metadata": {
    "ExecuteTime": {
     "end_time": "2023-03-17T07:26:35.807553Z",
     "start_time": "2023-03-17T07:26:35.794351Z"
    }
   },
   "outputs": [],
   "source": [
    "# other_hydrocarbons[(other_hydrocarbons['sectors'] == '19_04_ap_heat_plants') & (other_hydrocarbons['economy'] == 'APEC') & (other_hydrocarbons['year'] == 2020)]"
   ]
  },
  {
   "cell_type": "code",
   "execution_count": null,
   "metadata": {
    "ExecuteTime": {
     "end_time": "2023-03-17T07:26:42.876865Z",
     "start_time": "2023-03-17T07:26:42.782443Z"
    }
   },
   "outputs": [],
   "source": [
    "other_hydrocarbons_g = other_hydrocarbons.groupby(['economy', 'year', 'sectors'])['value'].sum().reset_index().assign(fuels = '04_03_other_hydrocarbons')"
   ]
  },
  {
   "cell_type": "markdown",
   "metadata": {
    "ExecuteTime": {
     "end_time": "2023-02-20T08:19:56.490996Z",
     "start_time": "2023-02-20T08:19:56.238484Z"
    }
   },
   "source": [
    "### Aggregation: 05_04_jet_fuel"
   ]
  },
  {
   "cell_type": "code",
   "execution_count": null,
   "metadata": {
    "ExecuteTime": {
     "end_time": "2023-03-17T07:26:48.987328Z",
     "start_time": "2023-03-17T07:26:48.803249Z"
    }
   },
   "outputs": [],
   "source": [
    "jet_fuel = df_fuel_sector[df_fuel_sector['fuels'].isin(['07_04_gasoline_type_jet_fuel', '07_05_kerosene_type_jet_fuel'])]"
   ]
  },
  {
   "cell_type": "code",
   "execution_count": null,
   "metadata": {
    "ExecuteTime": {
     "end_time": "2023-03-17T07:26:55.392375Z",
     "start_time": "2023-03-17T07:26:55.377037Z"
    }
   },
   "outputs": [],
   "source": [
    "# jet_fuel[(jet_fuel['sectors'] == '19_04_ap_heat_plants') & (jet_fuel['economy'] == 'APEC') & (jet_fuel['year'] == 2020)]"
   ]
  },
  {
   "cell_type": "code",
   "execution_count": null,
   "metadata": {
    "ExecuteTime": {
     "end_time": "2023-03-17T07:27:01.324304Z",
     "start_time": "2023-03-17T07:27:01.248438Z"
    }
   },
   "outputs": [],
   "source": [
    "jet_fuel_g = jet_fuel.groupby(['economy', 'year', 'sectors'])['value'].sum().reset_index().assign(fuels = '05_04_jet_fuel')"
   ]
  },
  {
   "cell_type": "markdown",
   "metadata": {
    "ExecuteTime": {
     "end_time": "2023-02-20T08:39:07.270196Z",
     "start_time": "2023-02-20T08:39:07.270196Z"
    }
   },
   "source": [
    "### Aggregation: 05_11_other_petroleum_products"
   ]
  },
  {
   "cell_type": "code",
   "execution_count": null,
   "metadata": {
    "ExecuteTime": {
     "end_time": "2023-03-17T07:27:07.462232Z",
     "start_time": "2023-03-17T07:27:07.183231Z"
    }
   },
   "outputs": [],
   "source": [
    "other_petroleum_products = df_fuel_sector[df_fuel_sector['fuels'].isin(['07_12_white_spirit_sbp', '07_13_lubricants', '07_14_bitumen',\\\n",
    "                                                                        '07_15_paraffin_waxes', '07_16_petroleum_coke', '07_17_other_products'])]"
   ]
  },
  {
   "cell_type": "code",
   "execution_count": null,
   "metadata": {
    "ExecuteTime": {
     "end_time": "2023-03-17T07:27:13.626101Z",
     "start_time": "2023-03-17T07:27:13.612562Z"
    }
   },
   "outputs": [],
   "source": [
    "# other_petroleum_products[(other_petroleum_products['sectors'] == '19_04_ap_heat_plants') & (other_petroleum_products['economy'] == 'APEC') & (other_petroleum_products['year'] == 2020)]"
   ]
  },
  {
   "cell_type": "code",
   "execution_count": null,
   "metadata": {
    "ExecuteTime": {
     "end_time": "2023-03-17T07:27:19.740932Z",
     "start_time": "2023-03-17T07:27:19.600072Z"
    }
   },
   "outputs": [],
   "source": [
    "other_petroleum_products_g = other_petroleum_products.groupby(['economy', 'year', 'sectors'])['value'].sum().reset_index().assign(fuels = '05_11_other_petroleum_products')"
   ]
  },
  {
   "cell_type": "markdown",
   "metadata": {
    "ExecuteTime": {
     "end_time": "2023-02-20T08:39:07.270196Z",
     "start_time": "2023-02-20T08:39:07.270196Z"
    }
   },
   "source": [
    "### Disaggregation: 10_02_other_solar (minus)\n",
    "- minus with the .groupby method"
   ]
  },
  {
   "cell_type": "code",
   "execution_count": null,
   "metadata": {
    "ExecuteTime": {
     "end_time": "2023-03-17T07:27:26.799286Z",
     "start_time": "2023-03-17T07:27:26.608682Z"
    }
   },
   "outputs": [],
   "source": [
    "other_solar = df_fuel_sector[df_fuel_sector['fuels'].isin(['10_solar', '10_01_of_which_photovoltaics'])]"
   ]
  },
  {
   "cell_type": "code",
   "execution_count": null,
   "metadata": {
    "ExecuteTime": {
     "end_time": "2023-03-17T07:27:33.419457Z",
     "start_time": "2023-03-17T07:27:33.406411Z"
    }
   },
   "outputs": [],
   "source": [
    "other_solar_a = other_solar[other_solar['fuels'] == '10_solar']\n",
    "other_solar_b = other_solar[other_solar['fuels'] == '10_01_of_which_photovoltaics']"
   ]
  },
  {
   "cell_type": "code",
   "execution_count": null,
   "metadata": {
    "ExecuteTime": {
     "end_time": "2023-03-17T07:27:39.989694Z",
     "start_time": "2023-03-17T07:27:39.976300Z"
    }
   },
   "outputs": [],
   "source": [
    "other_solar_b['value'] = other_solar_b['value']* -1"
   ]
  },
  {
   "cell_type": "code",
   "execution_count": null,
   "metadata": {
    "ExecuteTime": {
     "end_time": "2023-03-17T07:27:46.409891Z",
     "start_time": "2023-03-17T07:27:46.395839Z"
    }
   },
   "outputs": [],
   "source": [
    "other_solar = pd.concat([other_solar_a, other_solar_b], axis = 0)"
   ]
  },
  {
   "cell_type": "code",
   "execution_count": null,
   "metadata": {
    "ExecuteTime": {
     "end_time": "2023-03-17T07:27:52.745508Z",
     "start_time": "2023-03-17T07:27:52.718384Z"
    }
   },
   "outputs": [],
   "source": [
    "# other_solar[(other_solar['sectors'] == '01_production') & (other_solar['economy'] == '01_AUS') & (other_solar['year'] == 1980)]"
   ]
  },
  {
   "cell_type": "code",
   "execution_count": null,
   "metadata": {
    "ExecuteTime": {
     "end_time": "2023-03-17T07:28:00.661598Z",
     "start_time": "2023-03-17T07:28:00.648021Z"
    }
   },
   "outputs": [],
   "source": [
    "other_solar_g = other_solar.groupby(['economy', 'year', 'sectors'])['value'].sum().reset_index().assign(fuels = '10_02_other_solar')"
   ]
  },
  {
   "cell_type": "markdown",
   "metadata": {
    "ExecuteTime": {
     "end_time": "2023-03-13T08:15:32.364415Z",
     "start_time": "2023-03-13T08:15:32.301551Z"
    }
   },
   "source": [
    "### New-defined fuel: 14_10_hydrogen and 14_11_ammonia"
   ]
  },
  {
   "cell_type": "code",
   "execution_count": null,
   "metadata": {
    "ExecuteTime": {
     "end_time": "2023-03-17T07:28:07.708490Z",
     "start_time": "2023-03-17T07:28:07.680945Z"
    }
   },
   "outputs": [],
   "source": [
    "temp_for_new = other_solar_g.copy()\n",
    "temp_for_new['value'] = 0\n",
    "temp_for_new['fuels'] = 0\n",
    "# temp_for_new"
   ]
  },
  {
   "cell_type": "code",
   "execution_count": null,
   "metadata": {
    "ExecuteTime": {
     "end_time": "2023-03-17T07:28:14.815240Z",
     "start_time": "2023-03-17T07:28:14.801533Z"
    }
   },
   "outputs": [],
   "source": [
    "hydrogen = temp_for_new.copy()\n",
    "hydrogen['fuels'] = '14_10_hydrogen'\n",
    "\n",
    "ammonia = temp_for_new.copy()\n",
    "ammonia['fuels'] = '14_11_ammonia'"
   ]
  },
  {
   "cell_type": "markdown",
   "metadata": {
    "ExecuteTime": {
     "end_time": "2023-03-17T05:06:40.526412Z",
     "start_time": "2023-03-17T05:06:40.511742Z"
    }
   },
   "source": [
    "### Concate \n",
    "- exclude the data that are used to do the aggreation (排除用來相加的資料)\n",
    "- include the data you just create (加入相加相減後的資料)"
   ]
  },
  {
   "cell_type": "code",
   "execution_count": null,
   "metadata": {
    "ExecuteTime": {
     "end_time": "2023-03-17T07:28:22.744177Z",
     "start_time": "2023-03-17T07:28:22.131582Z"
    }
   },
   "outputs": [],
   "source": [
    "# 排除用來相加的資料\n",
    "# Remember to remove the peat and peat product because we decided to let thme back to the list. (20230317)\n",
    "df_fuel_sector = df_fuel_sector[~df_fuel_sector['fuels'].isin(['01_02_other_bituminous_coal', '01_03_subbituminous_coal', '01_04_anthracite', \\\n",
    "                                                                    '06_03_refinery_feedstocks', '06_04_additives_oxygenates', '06_05_other_hydrocarbons',\\\n",
    "                                                                    '07_04_gasoline_type_jet_fuel', '07_05_kerosene_type_jet_fuel', '07_12_white_spirit_sbp', '07_13_lubricants',\\\n",
    "                                                                    '07_14_bitumen', '07_15_paraffin_waxes', '07_16_petroleum_coke', '07_17_other_products'])]"
   ]
  },
  {
   "cell_type": "code",
   "execution_count": null,
   "metadata": {
    "ExecuteTime": {
     "end_time": "2023-03-17T07:28:30.039972Z",
     "start_time": "2023-03-17T07:28:29.175128Z"
    }
   },
   "outputs": [],
   "source": [
    "# 加入相加相減後的資料\n",
    "df_fuel_sector = pd.concat([df_fuel_sector,\\\n",
    "                                 thermal_coal_g, other_hydrocarbons_g, jet_fuel_g, other_petroleum_products_g, other_solar_g,\\\n",
    "                                 hydrogen, ammonia], axis = 0).reset_index(drop = True)"
   ]
  },
  {
   "cell_type": "markdown",
   "metadata": {
    "ExecuteTime": {
     "end_time": "2023-03-17T01:52:00.172157Z",
     "start_time": "2023-03-17T01:52:00.172157Z"
    }
   },
   "source": [
    "## Sector"
   ]
  },
  {
   "cell_type": "markdown",
   "metadata": {
    "ExecuteTime": {
     "end_time": "2023-03-17T01:52:00.172157Z",
     "start_time": "2023-03-17T01:52:00.172157Z"
    }
   },
   "source": [
    "### Aggregation: 09_01_electricity_plants"
   ]
  },
  {
   "cell_type": "code",
   "execution_count": null,
   "metadata": {
    "ExecuteTime": {
     "end_time": "2023-03-17T07:28:36.688665Z",
     "start_time": "2023-03-17T07:28:36.492249Z"
    }
   },
   "outputs": [],
   "source": [
    "ele_tf = df_fuel_sector[df_fuel_sector['sectors'].isin(['09_01_01_electricity_plants', '09_02_01_electricity_plants'])]\n",
    "# ele_tf.tail(10)"
   ]
  },
  {
   "cell_type": "code",
   "execution_count": null,
   "metadata": {
    "ExecuteTime": {
     "end_time": "2023-03-17T07:28:36.742290Z",
     "start_time": "2023-03-17T07:28:36.689386Z"
    }
   },
   "outputs": [],
   "source": [
    "ele_tf_g = ele_tf.groupby(['economy', 'year', 'fuels'])['value'].sum().reset_index().assign(sectors = '09_01_electricity_plants')\n",
    "# ele_tf_g"
   ]
  },
  {
   "cell_type": "code",
   "execution_count": null,
   "metadata": {
    "ExecuteTime": {
     "end_time": "2023-03-17T07:28:36.758239Z",
     "start_time": "2023-03-17T07:28:36.742290Z"
    }
   },
   "outputs": [],
   "source": [
    "# ele_tf_g[ele_tf_g['economy'] == '25_OCE']"
   ]
  },
  {
   "cell_type": "markdown",
   "metadata": {
    "ExecuteTime": {
     "end_time": "2023-03-17T01:52:00.172157Z",
     "start_time": "2023-03-17T01:52:00.172157Z"
    }
   },
   "source": [
    "###  Aggregation: 09_02_chp_plants"
   ]
  },
  {
   "cell_type": "code",
   "execution_count": null,
   "metadata": {
    "ExecuteTime": {
     "end_time": "2023-03-17T07:28:36.971998Z",
     "start_time": "2023-03-17T07:28:36.759193Z"
    }
   },
   "outputs": [],
   "source": [
    "chp_tf = df_fuel_sector[df_fuel_sector['sectors'].isin(['09_01_02_chp_plants', '09_02_02_chp_plants'])]\n",
    "# chp_tf.tail(10)"
   ]
  },
  {
   "cell_type": "code",
   "execution_count": null,
   "metadata": {
    "ExecuteTime": {
     "end_time": "2023-03-17T07:28:37.022372Z",
     "start_time": "2023-03-17T07:28:36.972936Z"
    }
   },
   "outputs": [],
   "source": [
    "chp_tf_g = chp_tf.groupby(['economy', 'year', 'fuels'])['value'].sum().reset_index().assign(sectors = '09_02_chp_plants')\n",
    "# chp_tf_g"
   ]
  },
  {
   "cell_type": "code",
   "execution_count": null,
   "metadata": {
    "ExecuteTime": {
     "end_time": "2023-03-17T07:28:37.039340Z",
     "start_time": "2023-03-17T07:28:37.023332Z"
    }
   },
   "outputs": [],
   "source": [
    "# chp_tf_g[ele_tf_g['economy'] == '25_OCE']"
   ]
  },
  {
   "cell_type": "markdown",
   "metadata": {
    "ExecuteTime": {
     "end_time": "2023-03-17T02:31:53.553251Z",
     "start_time": "2023-03-17T02:31:53.525384Z"
    }
   },
   "source": [
    "### Aggregation: 09_03_heat_plants"
   ]
  },
  {
   "cell_type": "code",
   "execution_count": null,
   "metadata": {
    "ExecuteTime": {
     "end_time": "2023-03-17T07:28:37.288765Z",
     "start_time": "2023-03-17T07:28:37.041908Z"
    }
   },
   "outputs": [],
   "source": [
    "heat_tf = df_fuel_sector[df_fuel_sector['sectors'].isin(['09_01_03_heat_plants', '09_02_03_heat_plants'])]\n",
    "# heat_tf.tail(10)"
   ]
  },
  {
   "cell_type": "code",
   "execution_count": null,
   "metadata": {
    "ExecuteTime": {
     "end_time": "2023-03-17T07:28:37.305599Z",
     "start_time": "2023-03-17T07:28:37.289768Z"
    }
   },
   "outputs": [],
   "source": [
    "# heat_tf[heat_tf['economy'] =='APEC'].tail(10)"
   ]
  },
  {
   "cell_type": "code",
   "execution_count": null,
   "metadata": {
    "ExecuteTime": {
     "end_time": "2023-03-17T07:28:37.355936Z",
     "start_time": "2023-03-17T07:28:37.306471Z"
    }
   },
   "outputs": [],
   "source": [
    "heat_tf_g = heat_tf.groupby(['economy', 'year', 'fuels'])['value'].sum().reset_index().assign(sectors = '09_03_heat_plants')"
   ]
  },
  {
   "cell_type": "code",
   "execution_count": null,
   "metadata": {
    "ExecuteTime": {
     "end_time": "2023-03-17T07:28:37.372796Z",
     "start_time": "2023-03-17T07:28:37.356672Z"
    }
   },
   "outputs": [],
   "source": [
    "# heat_tf_g[heat_tf_g['economy'] == 'APEC']"
   ]
  },
  {
   "cell_type": "markdown",
   "metadata": {
    "ExecuteTime": {
     "end_time": "2023-03-17T02:31:53.553251Z",
     "start_time": "2023-03-17T02:31:53.525384Z"
    }
   },
   "source": [
    "### Aggregation: 16_01_building"
   ]
  },
  {
   "cell_type": "code",
   "execution_count": null,
   "metadata": {
    "ExecuteTime": {
     "end_time": "2023-03-17T07:28:37.622171Z",
     "start_time": "2023-03-17T07:28:37.373494Z"
    }
   },
   "outputs": [],
   "source": [
    "bldg = df_fuel_sector[df_fuel_sector['sectors'].isin(['16_01_01_commercial_and_public_services', '16_01_02_residential'])] # notice that the item numbers are replaced by self-defined version.\n",
    "# bldg.tail(10)"
   ]
  },
  {
   "cell_type": "code",
   "execution_count": null,
   "metadata": {
    "ExecuteTime": {
     "end_time": "2023-03-17T07:28:37.672405Z",
     "start_time": "2023-03-17T07:28:37.623091Z"
    }
   },
   "outputs": [],
   "source": [
    "bldg_g = bldg.groupby(['economy', 'year', 'fuels'])['value'].sum().reset_index().assign(sectors = '16_01_building')\n",
    "# bldg_g"
   ]
  },
  {
   "cell_type": "code",
   "execution_count": null,
   "metadata": {
    "ExecuteTime": {
     "end_time": "2023-03-17T07:28:37.689266Z",
     "start_time": "2023-03-17T07:28:37.673325Z"
    }
   },
   "outputs": [],
   "source": [
    "# bldg_g[bldg_g['economy'] == '25_OCE']"
   ]
  },
  {
   "cell_type": "markdown",
   "metadata": {
    "ExecuteTime": {
     "end_time": "2023-03-17T02:31:53.553251Z",
     "start_time": "2023-03-17T02:31:53.525384Z"
    }
   },
   "source": [
    "### Aggregation: 16_02_agriculture_and_fishing"
   ]
  },
  {
   "cell_type": "code",
   "execution_count": null,
   "metadata": {
    "ExecuteTime": {
     "end_time": "2023-03-17T07:28:37.964671Z",
     "start_time": "2023-03-17T07:28:37.691930Z"
    }
   },
   "outputs": [],
   "source": [
    "agfi = df_fuel_sector[df_fuel_sector['sectors'].isin(['16_02_01_agriculture', '16_02_02_fishing'])] # notice that the item numbers are replaced by self-defined version.\n",
    "# agfi.tail(10)"
   ]
  },
  {
   "cell_type": "code",
   "execution_count": null,
   "metadata": {
    "ExecuteTime": {
     "end_time": "2023-03-17T07:28:38.011406Z",
     "start_time": "2023-03-17T07:28:37.966731Z"
    }
   },
   "outputs": [],
   "source": [
    "agfi_g = agfi.groupby(['economy', 'year', 'fuels'])['value'].sum().reset_index().assign(sectors = '16_02_agriculture_and_fishing')\n",
    "# bldg_g"
   ]
  },
  {
   "cell_type": "code",
   "execution_count": null,
   "metadata": {
    "ExecuteTime": {
     "end_time": "2023-03-17T07:28:38.027385Z",
     "start_time": "2023-03-17T07:28:38.013423Z"
    }
   },
   "outputs": [],
   "source": [
    "# agfi_g[agfi_g['economy'] == '25_OCE']"
   ]
  },
  {
   "cell_type": "markdown",
   "metadata": {
    "ExecuteTime": {
     "end_time": "2023-03-17T02:31:53.553251Z",
     "start_time": "2023-03-17T02:31:53.525384Z"
    }
   },
   "source": [
    "### Aggregation: 18_01_electricity_plants"
   ]
  },
  {
   "cell_type": "code",
   "execution_count": null,
   "metadata": {
    "ExecuteTime": {
     "end_time": "2023-03-17T07:28:38.274044Z",
     "start_time": "2023-03-17T07:28:38.029380Z"
    }
   },
   "outputs": [],
   "source": [
    "ele_gwh = df_fuel_sector[df_fuel_sector['sectors'].isin(['18_01_map_electricity_plants', '18_03_ap_electricity_plants'])] \n",
    "# ele_gwh.tail(10)"
   ]
  },
  {
   "cell_type": "code",
   "execution_count": null,
   "metadata": {
    "ExecuteTime": {
     "end_time": "2023-03-17T07:28:38.328998Z",
     "start_time": "2023-03-17T07:28:38.275003Z"
    }
   },
   "outputs": [],
   "source": [
    "ele_gwh_g = ele_gwh.groupby(['economy', 'year', 'fuels'])['value'].sum().reset_index().assign(sectors = '18_01_electricity_plants')"
   ]
  },
  {
   "cell_type": "code",
   "execution_count": null,
   "metadata": {
    "ExecuteTime": {
     "end_time": "2023-03-17T07:28:38.344839Z",
     "start_time": "2023-03-17T07:28:38.330884Z"
    }
   },
   "outputs": [],
   "source": [
    "# ele_gwh_g[ele_gwh_g['economy'] == '25_OCE']"
   ]
  },
  {
   "cell_type": "code",
   "execution_count": null,
   "metadata": {
    "ExecuteTime": {
     "end_time": "2023-03-17T07:28:38.376692Z",
     "start_time": "2023-03-17T07:28:38.345848Z"
    }
   },
   "outputs": [],
   "source": [
    "# ele_gwh_g[(ele_gwh_g['economy'] == '01_AUS') & (ele_gwh_g['fuels'] == '')]"
   ]
  },
  {
   "cell_type": "markdown",
   "metadata": {
    "ExecuteTime": {
     "end_time": "2023-03-17T02:31:53.553251Z",
     "start_time": "2023-03-17T02:31:53.525384Z"
    }
   },
   "source": [
    "### Aggregation: 18_02_chp_plants\n",
    "- electricity"
   ]
  },
  {
   "cell_type": "code",
   "execution_count": null,
   "metadata": {
    "ExecuteTime": {
     "end_time": "2023-03-17T07:28:38.591213Z",
     "start_time": "2023-03-17T07:28:38.377656Z"
    }
   },
   "outputs": [],
   "source": [
    "chp_gwh = df_fuel_sector[df_fuel_sector['sectors'].isin(['18_02_map_chp_plants', '18_04_ap_chp_plants'])] \n",
    "# chp_gwh.tail(10)"
   ]
  },
  {
   "cell_type": "code",
   "execution_count": null,
   "metadata": {
    "ExecuteTime": {
     "end_time": "2023-03-17T07:28:38.644296Z",
     "start_time": "2023-03-17T07:28:38.593213Z"
    }
   },
   "outputs": [],
   "source": [
    "chp_gwh_g = chp_gwh.groupby(['economy', 'year', 'fuels'])['value'].sum().reset_index().assign(sectors = '18_02_chp_plants')"
   ]
  },
  {
   "cell_type": "code",
   "execution_count": null,
   "metadata": {
    "ExecuteTime": {
     "end_time": "2023-03-17T07:28:38.659498Z",
     "start_time": "2023-03-17T07:28:38.646295Z"
    }
   },
   "outputs": [],
   "source": [
    "# chp_gwh_g[chp_gwh_g['economy'] == '25_OCE']"
   ]
  },
  {
   "cell_type": "markdown",
   "metadata": {
    "ExecuteTime": {
     "end_time": "2023-03-17T02:31:53.553251Z",
     "start_time": "2023-03-17T02:31:53.525384Z"
    }
   },
   "source": [
    "### Aggregation: 19_01_chp plants\n",
    "- heat"
   ]
  },
  {
   "cell_type": "code",
   "execution_count": null,
   "metadata": {
    "ExecuteTime": {
     "end_time": "2023-03-17T07:28:38.868455Z",
     "start_time": "2023-03-17T07:28:38.660497Z"
    }
   },
   "outputs": [],
   "source": [
    "chp_pj = df_fuel_sector[df_fuel_sector['sectors'].isin(['19_01_map_chp_plants', '19_03_ap_chp_plants'])] \n",
    "# chp_pj.tail(10)"
   ]
  },
  {
   "cell_type": "code",
   "execution_count": null,
   "metadata": {
    "ExecuteTime": {
     "end_time": "2023-03-17T07:28:38.914295Z",
     "start_time": "2023-03-17T07:28:38.870457Z"
    }
   },
   "outputs": [],
   "source": [
    "chp_pj_g = chp_pj.groupby(['economy', 'year', 'fuels'])['value'].sum().reset_index().assign(sectors = '19_01_chp plants')"
   ]
  },
  {
   "cell_type": "code",
   "execution_count": null,
   "metadata": {
    "ExecuteTime": {
     "end_time": "2023-03-17T07:28:38.945683Z",
     "start_time": "2023-03-17T07:28:38.915213Z"
    }
   },
   "outputs": [],
   "source": [
    "chp_pj_g[chp_pj_g['economy'] == '25_OCE']"
   ]
  },
  {
   "cell_type": "markdown",
   "metadata": {
    "ExecuteTime": {
     "end_time": "2023-03-17T02:31:53.553251Z",
     "start_time": "2023-03-17T02:31:53.525384Z"
    }
   },
   "source": [
    "### Aggregation: 19_02_heat_plants"
   ]
  },
  {
   "cell_type": "code",
   "execution_count": null,
   "metadata": {
    "ExecuteTime": {
     "end_time": "2023-03-17T07:28:39.199156Z",
     "start_time": "2023-03-17T07:28:38.946676Z"
    }
   },
   "outputs": [],
   "source": [
    "heat_pj = df_fuel_sector[df_fuel_sector['sectors'].isin(['19_02_map_heat_plants', '19_04_ap_heat_plants'])] \n",
    "# heat_pj.tail(10)"
   ]
  },
  {
   "cell_type": "code",
   "execution_count": null,
   "metadata": {
    "ExecuteTime": {
     "end_time": "2023-03-17T07:28:39.213466Z",
     "start_time": "2023-03-17T07:28:39.201171Z"
    }
   },
   "outputs": [],
   "source": [
    "# heat_pj[heat_pj['economy'] =='APEC'].tail(10)"
   ]
  },
  {
   "cell_type": "code",
   "execution_count": null,
   "metadata": {
    "ExecuteTime": {
     "end_time": "2023-03-17T07:28:39.288559Z",
     "start_time": "2023-03-17T07:28:39.213466Z"
    }
   },
   "outputs": [],
   "source": [
    "heat_pj_g = heat_pj.groupby(['economy', 'year', 'fuels'])['value'].sum().reset_index().assign(sectors = '19_02_heat_plants')"
   ]
  },
  {
   "cell_type": "code",
   "execution_count": null,
   "metadata": {
    "ExecuteTime": {
     "end_time": "2023-03-17T07:28:39.303775Z",
     "start_time": "2023-03-17T07:28:39.290557Z"
    }
   },
   "outputs": [],
   "source": [
    "# heat_pj_g[heat_pj_g['economy'] == 'APEC']"
   ]
  },
  {
   "cell_type": "markdown",
   "metadata": {
    "ExecuteTime": {
     "end_time": "2023-02-20T08:39:07.270196Z",
     "start_time": "2023-02-20T08:39:07.270196Z"
    }
   },
   "source": [
    "### concate for sectors\n",
    "- exclude the data that are used to do the aggreation (排除用來相加的資料)\n",
    "- include the data you just create (加入相加相減後的資料)"
   ]
  },
  {
   "cell_type": "code",
   "execution_count": null,
   "metadata": {
    "ExecuteTime": {
     "end_time": "2023-03-17T07:28:40.021674Z",
     "start_time": "2023-03-17T07:28:39.305771Z"
    }
   },
   "outputs": [],
   "source": [
    "df_fuel_sector = df_fuel_sector[~df_fuel_sector['sectors'].isin(['09_01_main_activity_producer', '09_02_autoproducers',\\\n",
    "                                                                                '09_01_01_electricity_plants', '09_02_01_electricity_plants',\\\n",
    "                                                                                '09_01_02_chp_plants', '09_02_02_chp_plants',\\\n",
    "                                                                                '09_01_03_heat_plants', '09_02_03_heat_plants',\\\n",
    "                                                                                '18_01_map_electricity_plants', '18_03_ap_electricity_plants',\\\n",
    "                                                                                '18_02_map_chp_plants', '18_04_ap_chp_plants'])]"
   ]
  },
  {
   "cell_type": "code",
   "execution_count": null,
   "metadata": {
    "ExecuteTime": {
     "end_time": "2023-03-17T07:28:40.614714Z",
     "start_time": "2023-03-17T07:28:40.021674Z"
    }
   },
   "outputs": [],
   "source": [
    "# 加入相加相減後的資料\n",
    "df_fuel_sector_temp = pd.concat([df_fuel_sector,\\\n",
    "                                 ele_tf_g, chp_tf_g, heat_tf_g,\\\n",
    "                                 bldg_g, agfi_g, \\\n",
    "                                 ele_gwh_g, chp_gwh_g, \\\n",
    "                                 chp_pj_g, heat_pj_g], axis = 0).reset_index(drop = True)"
   ]
  },
  {
   "cell_type": "markdown",
   "metadata": {
    "ExecuteTime": {
     "end_time": "2023-02-20T13:54:05.985154Z",
     "start_time": "2023-02-20T13:54:05.631047Z"
    }
   },
   "source": [
    "# Merge the layout and the EGEDA data"
   ]
  },
  {
   "cell_type": "markdown",
   "metadata": {
    "ExecuteTime": {
     "end_time": "2023-02-20T13:54:05.985154Z",
     "start_time": "2023-02-20T13:54:05.631047Z"
    }
   },
   "source": [
    "## Merge the layout: sector, fuel, econ, year"
   ]
  },
  {
   "cell_type": "code",
   "execution_count": null,
   "metadata": {
    "ExecuteTime": {
     "end_time": "2023-03-17T07:28:40.639863Z",
     "start_time": "2023-03-17T07:28:40.614714Z"
    }
   },
   "outputs": [],
   "source": [
    "sector_fuel_layout = pd.merge(sector_layout, fuel_layout, how = 'cross')  "
   ]
  },
  {
   "cell_type": "code",
   "execution_count": null,
   "metadata": {
    "ExecuteTime": {
     "end_time": "2023-03-17T07:28:40.971943Z",
     "start_time": "2023-03-17T07:28:40.639863Z"
    }
   },
   "outputs": [],
   "source": [
    "economy_df = pd.DataFrame(df_fuel_sector_temp['economy'].unique(), columns=['economy'])\n",
    "year_df = pd.DataFrame(df_fuel_sector_temp['year'].unique(), columns=['year'])"
   ]
  },
  {
   "cell_type": "code",
   "execution_count": null,
   "metadata": {
    "ExecuteTime": {
     "end_time": "2023-03-17T07:28:40.987285Z",
     "start_time": "2023-03-17T07:28:40.973665Z"
    }
   },
   "outputs": [],
   "source": [
    "df_econ_year = pd.merge(economy_df, year_df, how = 'cross')"
   ]
  },
  {
   "cell_type": "code",
   "execution_count": null,
   "metadata": {
    "ExecuteTime": {
     "end_time": "2023-03-17T07:28:43.524685Z",
     "start_time": "2023-03-17T07:28:40.988282Z"
    }
   },
   "outputs": [],
   "source": [
    "sector_fuel_econ_year_layout =  pd.merge(df_econ_year, sector_fuel_layout, how = 'cross')"
   ]
  },
  {
   "cell_type": "markdown",
   "metadata": {
    "ExecuteTime": {
     "end_time": "2023-02-20T13:33:15.860243Z",
     "start_time": "2023-02-20T13:33:15.673111Z"
    }
   },
   "source": [
    "## Merge layout and EGEDA data"
   ]
  },
  {
   "cell_type": "code",
   "execution_count": null,
   "metadata": {
    "ExecuteTime": {
     "end_time": "2023-03-17T07:28:59.536490Z",
     "start_time": "2023-03-17T07:28:43.524685Z"
    }
   },
   "outputs": [],
   "source": [
    "merged_df = pd.merge(df_fuel_sector_temp, sector_fuel_econ_year_layout, how = 'right', \\\n",
    "                     left_on = ['economy', 'year', 'fuels', 'sectors'], \\\n",
    "                     right_on = ['economy', 'year', 'fuel_key_col', 'sector_key_col'])  "
   ]
  },
  {
   "cell_type": "code",
   "execution_count": null,
   "metadata": {
    "ExecuteTime": {
     "end_time": "2023-03-17T07:28:59.552073Z",
     "start_time": "2023-03-17T07:28:59.536490Z"
    }
   },
   "outputs": [],
   "source": [
    "# merged_df['fuel_key_col'].unique()"
   ]
  },
  {
   "cell_type": "markdown",
   "metadata": {
    "ExecuteTime": {
     "end_time": "2023-02-20T13:33:15.860243Z",
     "start_time": "2023-02-20T13:33:15.673111Z"
    }
   },
   "source": [
    "# Drop the useless col"
   ]
  },
  {
   "cell_type": "code",
   "execution_count": null,
   "metadata": {
    "ExecuteTime": {
     "end_time": "2023-03-17T07:29:00.854499Z",
     "start_time": "2023-03-17T07:28:59.554023Z"
    }
   },
   "outputs": [],
   "source": [
    "merged_df_clean = merged_df.drop(['fuels_x', 'sectors_x', 'sector_key_col', 'fuel_key_col'], axis = 1)"
   ]
  },
  {
   "cell_type": "code",
   "execution_count": null,
   "metadata": {
    "ExecuteTime": {
     "end_time": "2023-03-17T07:29:03.392635Z",
     "start_time": "2023-03-17T07:29:00.854499Z"
    }
   },
   "outputs": [],
   "source": [
    "merged_df_clean = merged_df_clean.rename(columns={'sectors_y': 'sectors', 'fuels_y': 'fuels'})"
   ]
  },
  {
   "cell_type": "code",
   "execution_count": null,
   "metadata": {
    "ExecuteTime": {
     "end_time": "2023-03-17T07:29:04.720138Z",
     "start_time": "2023-03-17T07:29:03.392635Z"
    }
   },
   "outputs": [],
   "source": [
    "merged_df_clean = merged_df_clean.reindex(columns=['economy', 'year', 'sectors', 'sub1sectors', 'sub2sectors', 'sub3sectors', 'sub4sectors', 'fuels', 'subfuels', 'value'])"
   ]
  },
  {
   "cell_type": "code",
   "execution_count": null,
   "metadata": {
    "ExecuteTime": {
     "end_time": "2023-03-17T07:29:04.735096Z",
     "start_time": "2023-03-17T07:29:04.720138Z"
    }
   },
   "outputs": [],
   "source": [
    "# merged_df_clean"
   ]
  },
  {
   "cell_type": "code",
   "execution_count": null,
   "metadata": {
    "ExecuteTime": {
     "end_time": "2023-03-17T07:29:04.750217Z",
     "start_time": "2023-03-17T07:29:04.735096Z"
    }
   },
   "outputs": [],
   "source": [
    "# merged_df_clean[(merged_df_clean['economy'] == '01_AUS') & (merged_df_clean['sub1sectors'] == '09_01_electricity_plants')\\\n",
    "#                 & (merged_df_clean['subfuels'] == '01_02_thermal_coal') ]"
   ]
  },
  {
   "cell_type": "markdown",
   "metadata": {
    "ExecuteTime": {
     "end_time": "2023-02-17T15:32:52.576759Z",
     "start_time": "2023-02-17T15:32:52.567785Z"
    }
   },
   "source": [
    "# Export the merged result (將結果輸出)"
   ]
  },
  {
   "cell_type": "markdown",
   "metadata": {
    "ExecuteTime": {
     "end_time": "2023-02-20T15:49:30.776829Z",
     "start_time": "2023-02-20T15:49:30.776829Z"
    }
   },
   "source": [
    "## pivot the data first to save time\n",
    "- You have to fillna with some numerical number first, otherwise the row with np.nan will be ignore by ```pivot_table``` (補數字，否則 pivot 會把都是 np.NAN 的欄位給忽略掉)\n",
    "- ```value_not_in_the_range``` is assigned to a value that is differnt from the current dataframe. (series) \n",
    "- We will replace them with np.nan after ```pivot_table```. (value_not_in_the_range 目的是之後把數值取代回 np.nan)\n",
    "- BTW, replacing with string may cause problem in ```pivot_table```"
   ]
  },
  {
   "cell_type": "code",
   "execution_count": null,
   "metadata": {
    "ExecuteTime": {
     "end_time": "2023-03-17T07:29:21.307089Z",
     "start_time": "2023-03-17T07:29:04.750470Z"
    }
   },
   "outputs": [],
   "source": [
    "value_not_in_the_range = merged_df_clean['value'].min() - 1\n",
    "merged_df_clean = merged_df_clean.fillna(value_not_in_the_range)\n",
    "# merged_df_clean"
   ]
  },
  {
   "cell_type": "code",
   "execution_count": null,
   "metadata": {
    "ExecuteTime": {
     "end_time": "2023-03-17T07:29:47.049238Z",
     "start_time": "2023-03-17T07:29:21.307089Z"
    }
   },
   "outputs": [],
   "source": [
    "merged_df_clean_wide = merged_df_clean.pivot_table(index = ['economy', 'sectors', 'sub1sectors', 'sub2sectors', 'sub3sectors', 'sub4sectors', 'fuels', 'subfuels'],\\\n",
    "                                       columns = 'year', values = 'value').reset_index(drop = False)"
   ]
  },
  {
   "cell_type": "code",
   "execution_count": null,
   "metadata": {
    "ExecuteTime": {
     "end_time": "2023-03-17T07:29:47.064947Z",
     "start_time": "2023-03-17T07:29:47.049238Z"
    }
   },
   "outputs": [],
   "source": [
    "# merged_df_clean_wide"
   ]
  },
  {
   "cell_type": "code",
   "execution_count": null,
   "metadata": {
    "ExecuteTime": {
     "end_time": "2023-03-17T07:29:47.081621Z",
     "start_time": "2023-03-17T07:29:47.066051Z"
    }
   },
   "outputs": [],
   "source": [
    "# merged_df_clean_wide['sub3sectors'].unique()"
   ]
  },
  {
   "cell_type": "code",
   "execution_count": null,
   "metadata": {
    "ExecuteTime": {
     "end_time": "2023-03-17T07:29:47.170601Z",
     "start_time": "2023-03-17T07:29:47.083615Z"
    }
   },
   "outputs": [],
   "source": [
    "# merged_df_clean_wide[merged_df_clean_wide['sub3sectors'] == '18_xx_01_10_otherrenewable']"
   ]
  },
  {
   "cell_type": "code",
   "execution_count": null,
   "metadata": {
    "ExecuteTime": {
     "end_time": "2023-03-17T07:29:47.190449Z",
     "start_time": "2023-03-17T07:29:47.172561Z"
    }
   },
   "outputs": [],
   "source": [
    "# merged_df_clean_wide[merged_df_clean_wide['subfuels'] == '14_11_ammonia']"
   ]
  },
  {
   "cell_type": "markdown",
   "metadata": {
    "ExecuteTime": {
     "end_time": "2023-03-03T05:47:40.306160Z",
     "start_time": "2023-03-03T05:47:19.546321Z"
    }
   },
   "source": [
    "## merge the scenarios"
   ]
  },
  {
   "cell_type": "code",
   "execution_count": null,
   "metadata": {
    "ExecuteTime": {
     "end_time": "2023-03-17T07:29:47.276433Z",
     "start_time": "2023-03-17T07:29:47.192410Z"
    }
   },
   "outputs": [],
   "source": [
    "scen = pd.read_excel('./data/scenario_list.xlsx')"
   ]
  },
  {
   "cell_type": "code",
   "execution_count": null,
   "metadata": {
    "ExecuteTime": {
     "end_time": "2023-03-17T07:29:47.818690Z",
     "start_time": "2023-03-17T07:29:47.278351Z"
    }
   },
   "outputs": [],
   "source": [
    "merged_df_clean_wide = pd.merge(scen, merged_df_clean_wide, how = 'cross')"
   ]
  },
  {
   "cell_type": "markdown",
   "metadata": {
    "ExecuteTime": {
     "end_time": "2023-03-03T05:49:01.831512Z",
     "start_time": "2023-03-03T05:49:01.505743Z"
    }
   },
   "source": [
    "## Extend the projected years (2021 to 2070)"
   ]
  },
  {
   "cell_type": "code",
   "execution_count": null,
   "metadata": {
    "ExecuteTime": {
     "end_time": "2023-03-17T07:29:47.833794Z",
     "start_time": "2023-03-17T07:29:47.818690Z"
    }
   },
   "outputs": [],
   "source": [
    "projected_years = list(range(2021, 2070+1, 1))\n",
    "# projected_years"
   ]
  },
  {
   "cell_type": "code",
   "execution_count": null,
   "metadata": {
    "ExecuteTime": {
     "end_time": "2023-03-17T07:29:47.927024Z",
     "start_time": "2023-03-17T07:29:47.836132Z"
    }
   },
   "outputs": [],
   "source": [
    "for i in projected_years:\n",
    "    merged_df_clean_wide[i] = np.nan"
   ]
  },
  {
   "cell_type": "markdown",
   "metadata": {
    "ExecuteTime": {
     "end_time": "2023-03-17T03:28:36.752439Z",
     "start_time": "2023-03-17T03:28:36.665429Z"
    }
   },
   "source": [
    "## Replace the ```value_not_in_the_range``` with ```np.nan```\n",
    "- In principle, rows without historical data will be assign np.nan rather than 0.\n",
    "---\n",
    "- Notice that we set 0 for hydrogen and ammonia before concating.\n",
    "- They became ```np.nan``` during the process.\n",
    "- To do the pivot properly, ther became value_not_in_the_range.\n",
    "- And now they are going to become np.nan again."
   ]
  },
  {
   "cell_type": "code",
   "execution_count": null,
   "metadata": {
    "ExecuteTime": {
     "end_time": "2023-03-17T07:29:48.739784Z",
     "start_time": "2023-03-17T07:29:47.928983Z"
    }
   },
   "outputs": [],
   "source": [
    "merged_df_clean_wide.replace(value_not_in_the_range, np.nan, inplace = True)"
   ]
  },
  {
   "cell_type": "markdown",
   "metadata": {
    "ExecuteTime": {
     "end_time": "2023-02-27T03:43:11.526177Z",
     "start_time": "2023-02-27T03:43:05.523115Z"
    }
   },
   "source": [
    "# Export the data"
   ]
  },
  {
   "cell_type": "markdown",
   "metadata": {
    "ExecuteTime": {
     "end_time": "2023-03-03T06:02:55.695834Z",
     "start_time": "2023-03-03T06:02:55.680386Z"
    }
   },
   "source": [
    "## Entire data"
   ]
  },
  {
   "cell_type": "code",
   "execution_count": null,
   "metadata": {
    "ExecuteTime": {
     "end_time": "2023-03-17T07:29:48.755453Z",
     "start_time": "2023-03-17T07:29:48.739784Z"
    }
   },
   "outputs": [],
   "source": [
    "from datetime import datetime\n",
    "date_today = datetime.now().strftime('%Y%m%d')\n",
    "# date_today"
   ]
  },
  {
   "cell_type": "code",
   "execution_count": null,
   "metadata": {
    "ExecuteTime": {
     "end_time": "2023-03-17T07:30:19.131386Z",
     "start_time": "2023-03-17T07:29:48.757016Z"
    }
   },
   "outputs": [],
   "source": [
    "import os\n",
    "folder_path = './result'\n",
    "os.makedirs(folder_path, exist_ok=True)\n",
    "\n",
    "file_name = 'output_merged_df_clean_wide_' + date_today +'.csv'\n",
    "result_path = os.path.join(folder_path, file_name)\n",
    "merged_df_clean_wide.to_csv(result_path, index = False)"
   ]
  },
  {
   "cell_type": "markdown",
   "metadata": {
    "ExecuteTime": {
     "end_time": "2023-03-03T06:00:56.745485Z",
     "start_time": "2023-03-03T06:00:56.745485Z"
    }
   },
   "source": [
    "## Choose one economy"
   ]
  },
  {
   "cell_type": "code",
   "execution_count": null,
   "metadata": {
    "ExecuteTime": {
     "end_time": "2023-03-17T07:30:19.209791Z",
     "start_time": "2023-03-17T07:30:19.131386Z"
    }
   },
   "outputs": [],
   "source": [
    "merged_df_clean_wide_aus = merged_df_clean_wide[merged_df_clean_wide['economy'] == '01_AUS']\n",
    "# merged_df_clean_wide_aus"
   ]
  },
  {
   "cell_type": "code",
   "execution_count": null,
   "metadata": {
    "ExecuteTime": {
     "end_time": "2023-03-17T07:30:26.201974Z",
     "start_time": "2023-03-17T07:30:25.088461Z"
    }
   },
   "outputs": [],
   "source": [
    "import os\n",
    "folder_path = './result'\n",
    "os.makedirs(folder_path, exist_ok=True)\n",
    "\n",
    "file_name = 'output_merged_df_clean_wide_aus_' + date_today +'.csv'\n",
    "result_path = os.path.join(folder_path, file_name)\n",
    "merged_df_clean_wide_aus.to_csv(result_path, index = False)"
   ]
  },
  {
   "cell_type": "markdown",
   "metadata": {},
   "source": [
    "## Choose one economy and one scenario"
   ]
  },
  {
   "cell_type": "code",
   "execution_count": null,
   "metadata": {
    "ExecuteTime": {
     "end_time": "2023-03-17T07:42:34.555443Z",
     "start_time": "2023-03-17T07:42:34.539642Z"
    }
   },
   "outputs": [],
   "source": [
    "merged_df_clean_wide_aus_net_zero = merged_df_clean_wide_aus[merged_df_clean_wide_aus['scenarios'] == 'net-zero']"
   ]
  },
  {
   "cell_type": "code",
   "execution_count": null,
   "metadata": {
    "ExecuteTime": {
     "end_time": "2023-03-17T07:42:48.053685Z",
     "start_time": "2023-03-17T07:42:47.380043Z"
    }
   },
   "outputs": [],
   "source": [
    "import os\n",
    "folder_path = './result'\n",
    "os.makedirs(folder_path, exist_ok=True)\n",
    "\n",
    "file_name = 'output_merged_df_clean_wide_aus_net_zero_' + date_today +'.csv'\n",
    "result_path = os.path.join(folder_path, file_name)\n",
    "merged_df_clean_wide_aus_net_zero.to_csv(result_path, index = False)"
   ]
  }
 ],
 "metadata": {
  "kernelspec": {
   "display_name": "Python 3 (ipykernel)",
   "language": "python",
   "name": "python3"
  },
  "language_info": {
   "codemirror_mode": {
    "name": "ipython",
    "version": 3
   },
   "file_extension": ".py",
   "mimetype": "text/x-python",
   "name": "python",
   "nbconvert_exporter": "python",
   "pygments_lexer": "ipython3",
   "version": "3.9.12"
  },
  "toc": {
   "base_numbering": 1,
   "nav_menu": {
    "height": "315px",
    "width": "955px"
   },
   "number_sections": true,
   "sideBar": true,
   "skip_h1_title": false,
   "title_cell": "Table of Contents",
   "title_sidebar": "Contents",
   "toc_cell": false,
   "toc_position": {
    "height": "789px",
    "left": "39px",
    "top": "143.125px",
    "width": "194.797px"
   },
   "toc_section_display": true,
   "toc_window_display": false
  },
  "varInspector": {
   "cols": {
    "lenName": 16,
    "lenType": 16,
    "lenVar": 40
   },
   "kernels_config": {
    "python": {
     "delete_cmd_postfix": "",
     "delete_cmd_prefix": "del ",
     "library": "var_list.py",
     "varRefreshCmd": "print(var_dic_list())"
    },
    "r": {
     "delete_cmd_postfix": ") ",
     "delete_cmd_prefix": "rm(",
     "library": "var_list.r",
     "varRefreshCmd": "cat(var_dic_list()) "
    }
   },
   "position": {
    "height": "779.844px",
    "left": "1539px",
    "right": "20px",
    "top": "120px",
    "width": "361px"
   },
   "types_to_exclude": [
    "module",
    "function",
    "builtin_function_or_method",
    "instance",
    "_Feature"
   ],
   "window_display": false
  },
  "vscode": {
   "interpreter": {
    "hash": "151ce216a8b9cb792d5840c4cdba857758b5f5eb9053ba8237c0ca4c6fe482f2"
   }
  }
 },
 "nbformat": 4,
 "nbformat_minor": 4
}
